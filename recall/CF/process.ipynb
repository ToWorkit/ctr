{
 "cells": [
  {
   "cell_type": "markdown",
   "metadata": {},
   "source": [
    "### 数据处理"
   ]
  },
  {
   "cell_type": "code",
   "execution_count": 2,
   "metadata": {},
   "outputs": [],
   "source": [
    "import os\n",
    "import pandas as pd"
   ]
  },
  {
   "cell_type": "code",
   "execution_count": 3,
   "metadata": {},
   "outputs": [],
   "source": [
    "PATH = \"F:\\\\badou\\\\tmp\\\\lr\\\\raw_data\\\\\""
   ]
  },
  {
   "cell_type": "code",
   "execution_count": 4,
   "metadata": {},
   "outputs": [],
   "source": [
    "# data file\n",
    "music_data = os.path.join(PATH, 'music_meta')\n",
    "user_profile = os.path.join(PATH, 'user_profile.data')\n",
    "user_watch_pref = os.path.join(PATH, 'user_watch_pref.sml')"
   ]
  },
  {
   "cell_type": "code",
   "execution_count": 5,
   "metadata": {},
   "outputs": [],
   "source": [
    "# item description data\n",
    "def gen_music_meta(nrows=None):\n",
    "    df_music_meta = pd.read_csv(music_data,\n",
    "                                sep='\\001',\n",
    "                                nrows=nrows,\n",
    "                                names=['item_id', 'item_name', 'desc', 'total_timelen', 'location', 'tags'])\n",
    "    del df_music_meta['desc']\n",
    "    # 空值替换为 -\n",
    "    return df_music_meta.fillna('-')"
   ]
  },
  {
   "cell_type": "code",
   "execution_count": 6,
   "metadata": {},
   "outputs": [],
   "source": [
    "# user profile data\n",
    "def gen_user_profile(nrows=None):\n",
    "    return pd.read_csv(user_profile,\n",
    "                       sep=',',\n",
    "                       nrows=nrows,\n",
    "                       names=['user_id', 'gender', 'age', 'salary', 'province'])"
   ]
  },
  {
   "cell_type": "code",
   "execution_count": 7,
   "metadata": {},
   "outputs": [],
   "source": [
    "# user action data\n",
    "def gen_user_watch(nrows = None):\n",
    "    return pd.read_csv(user_watch_pref,\n",
    "                       sep = '\\001',\n",
    "                       nrows = nrows,\n",
    "                       names = ['user_id', 'item_id', 'stay_seconds', 'hour'])"
   ]
  },
  {
   "cell_type": "code",
   "execution_count": 8,
   "metadata": {},
   "outputs": [
    {
     "data": {
      "text/html": [
       "<div>\n",
       "<style scoped>\n",
       "    .dataframe tbody tr th:only-of-type {\n",
       "        vertical-align: middle;\n",
       "    }\n",
       "\n",
       "    .dataframe tbody tr th {\n",
       "        vertical-align: top;\n",
       "    }\n",
       "\n",
       "    .dataframe thead th {\n",
       "        text-align: right;\n",
       "    }\n",
       "</style>\n",
       "<table border=\"1\" class=\"dataframe\">\n",
       "  <thead>\n",
       "    <tr style=\"text-align: right;\">\n",
       "      <th></th>\n",
       "      <th>user_id</th>\n",
       "      <th>item_id</th>\n",
       "      <th>stay_seconds</th>\n",
       "      <th>hour</th>\n",
       "    </tr>\n",
       "  </thead>\n",
       "  <tbody>\n",
       "    <tr>\n",
       "      <th>0</th>\n",
       "      <td>01e069ed67600f1914e64c0fe7730944</td>\n",
       "      <td>4090309101</td>\n",
       "      <td>15</td>\n",
       "      <td>19</td>\n",
       "    </tr>\n",
       "  </tbody>\n",
       "</table>\n",
       "</div>"
      ],
      "text/plain": [
       "                            user_id     item_id  stay_seconds  hour\n",
       "0  01e069ed67600f1914e64c0fe7730944  4090309101            15    19"
      ]
     },
     "execution_count": 8,
     "metadata": {},
     "output_type": "execute_result"
    }
   ],
   "source": [
    "gen_user_watch(1)"
   ]
  },
  {
   "cell_type": "code",
   "execution_count": 10,
   "metadata": {},
   "outputs": [
    {
     "data": {
      "text/html": [
       "<div>\n",
       "<style scoped>\n",
       "    .dataframe tbody tr th:only-of-type {\n",
       "        vertical-align: middle;\n",
       "    }\n",
       "\n",
       "    .dataframe tbody tr th {\n",
       "        vertical-align: top;\n",
       "    }\n",
       "\n",
       "    .dataframe thead th {\n",
       "        text-align: right;\n",
       "    }\n",
       "</style>\n",
       "<table border=\"1\" class=\"dataframe\">\n",
       "  <thead>\n",
       "    <tr style=\"text-align: right;\">\n",
       "      <th></th>\n",
       "      <th>item_id</th>\n",
       "      <th>item_name</th>\n",
       "      <th>total_timelen</th>\n",
       "      <th>location</th>\n",
       "      <th>tags</th>\n",
       "    </tr>\n",
       "  </thead>\n",
       "  <tbody>\n",
       "    <tr>\n",
       "      <th>0</th>\n",
       "      <td>93709100</td>\n",
       "      <td>韩国少女时代最新回归新专主打《I GOT A BOY》</td>\n",
       "      <td>304</td>\n",
       "      <td>-</td>\n",
       "      <td>少女时代,鹿晗,韩国,exo综艺,最新回归,exo快乐大本营,吴世勋,fx组合,音悦台</td>\n",
       "    </tr>\n",
       "  </tbody>\n",
       "</table>\n",
       "</div>"
      ],
      "text/plain": [
       "    item_id                    item_name  total_timelen location  \\\n",
       "0  93709100  韩国少女时代最新回归新专主打《I GOT A BOY》            304        -   \n",
       "\n",
       "                                          tags  \n",
       "0  少女时代,鹿晗,韩国,exo综艺,最新回归,exo快乐大本营,吴世勋,fx组合,音悦台  "
      ]
     },
     "execution_count": 10,
     "metadata": {},
     "output_type": "execute_result"
    }
   ],
   "source": [
    "gen_music_meta(1)"
   ]
  },
  {
   "cell_type": "code",
   "execution_count": 14,
   "metadata": {},
   "outputs": [],
   "source": [
    "def user_item_score():\n",
    "    \"\"\"读取数据集 40000 条\"\"\"\n",
    "    # 用户行为数据\n",
    "    user_watch = gen_user_watch(40000)\n",
    "    \n",
    "    # 商品数据\n",
    "    music_meta = gen_music_meta()\n",
    "    \n",
    "    # 将用户行为和商品数据相关联\n",
    "    data = user_watch.merge(music_meta, how=\"inner\", on=\"item_id\")\n",
    "    \n",
    "    del user_watch\n",
    "    del music_meta\n",
    "    \n",
    "    # 添加score = 用户收听的时间 / 商品的总时长\n",
    "    data[\"score\"] = data.apply(lambda x: float(x[\"stay_seconds\"]) / float(x[\"total_timelen\"]), axis=1)\n",
    "    \n",
    "    # 过滤数据只取相关的\n",
    "    data = data[[\"user_id\", \"item_id\", \"score\"]]\n",
    "    \n",
    "    # 对相同的user_id和item_id的打分求和(用户在不同时段多次收听)[求平均值也行]\n",
    "    # groupby返回字典的形式，做 reset_index 变回 dataFrame 形式\n",
    "    data = data.groupby([\"user_id\", \"item_id\"]).score.sum().reset_index()\n",
    "    \n",
    "    return data"
   ]
  },
  {
   "cell_type": "code",
   "execution_count": 15,
   "metadata": {},
   "outputs": [
    {
     "name": "stderr",
     "output_type": "stream",
     "text": [
      "c:\\users\\hedy\\appdata\\local\\programs\\python\\python36\\lib\\site-packages\\IPython\\core\\interactiveshell.py:2910: DtypeWarning: Columns (3) have mixed types. Specify dtype option on import or set low_memory=False.\n",
      "  exec(code_obj, self.user_global_ns, self.user_ns)\n"
     ]
    },
    {
     "data": {
      "text/html": [
       "<div>\n",
       "<style scoped>\n",
       "    .dataframe tbody tr th:only-of-type {\n",
       "        vertical-align: middle;\n",
       "    }\n",
       "\n",
       "    .dataframe tbody tr th {\n",
       "        vertical-align: top;\n",
       "    }\n",
       "\n",
       "    .dataframe thead th {\n",
       "        text-align: right;\n",
       "    }\n",
       "</style>\n",
       "<table border=\"1\" class=\"dataframe\">\n",
       "  <thead>\n",
       "    <tr style=\"text-align: right;\">\n",
       "      <th></th>\n",
       "      <th>user_id</th>\n",
       "      <th>item_id</th>\n",
       "      <th>score</th>\n",
       "    </tr>\n",
       "  </thead>\n",
       "  <tbody>\n",
       "    <tr>\n",
       "      <th>0</th>\n",
       "      <td>0000066b1be6f28ad5e40d47b8d3e51c</td>\n",
       "      <td>426100349</td>\n",
       "      <td>1.280000</td>\n",
       "    </tr>\n",
       "    <tr>\n",
       "      <th>1</th>\n",
       "      <td>000007042a11f469173bd85ff121eee9</td>\n",
       "      <td>9087609344</td>\n",
       "      <td>0.919811</td>\n",
       "    </tr>\n",
       "    <tr>\n",
       "      <th>2</th>\n",
       "      <td>00000cce929ed4de96d2cb6bbf956c53</td>\n",
       "      <td>251400320</td>\n",
       "      <td>1.025785</td>\n",
       "    </tr>\n",
       "    <tr>\n",
       "      <th>3</th>\n",
       "      <td>00000f7383b4ddb4885c7ef81b483e27</td>\n",
       "      <td>711800352</td>\n",
       "      <td>0.517241</td>\n",
       "    </tr>\n",
       "    <tr>\n",
       "      <th>4</th>\n",
       "      <td>00001fc17f67602470571d231a76176e</td>\n",
       "      <td>780800217</td>\n",
       "      <td>0.503356</td>\n",
       "    </tr>\n",
       "  </tbody>\n",
       "</table>\n",
       "</div>"
      ],
      "text/plain": [
       "                            user_id     item_id     score\n",
       "0  0000066b1be6f28ad5e40d47b8d3e51c   426100349  1.280000\n",
       "1  000007042a11f469173bd85ff121eee9  9087609344  0.919811\n",
       "2  00000cce929ed4de96d2cb6bbf956c53   251400320  1.025785\n",
       "3  00000f7383b4ddb4885c7ef81b483e27   711800352  0.517241\n",
       "4  00001fc17f67602470571d231a76176e   780800217  0.503356"
      ]
     },
     "execution_count": 15,
     "metadata": {},
     "output_type": "execute_result"
    }
   ],
   "source": [
    "data = user_item_score()\n",
    "data.head()"
   ]
  },
  {
   "cell_type": "code",
   "execution_count": 16,
   "metadata": {},
   "outputs": [],
   "source": [
    "def train_from_df(df, col_name = ['user_id', 'item_id', 'score']):\n",
    "    \"\"\"将数据集处理为 {user_id: {item_id: rating}} 格式\"\"\"\n",
    "    train = dict()\n",
    "    for _, row in data.iterrows():\n",
    "        user_id = str(row[col_name[0]])\n",
    "        item_id = str(row[col_name[1]])\n",
    "        rating = row[col_name[2]]\n",
    "        \n",
    "        if train.get(user_id, -1) == -1:\n",
    "            train[user_id] = dict()\n",
    "        \n",
    "        train[user_id][item_id] = rating\n",
    "    \n",
    "    return train"
   ]
  },
  {
   "cell_type": "code",
   "execution_count": 17,
   "metadata": {},
   "outputs": [],
   "source": [
    "train = train_from_df(data, col_name = ['user_id', 'item_id', 'score'])"
   ]
  },
  {
   "cell_type": "code",
   "execution_count": 22,
   "metadata": {},
   "outputs": [
    {
     "data": {
      "text/plain": [
       "{'348800325': 0.8888888888888888, '350100326': 0.06302521008403361}"
      ]
     },
     "execution_count": 22,
     "metadata": {},
     "output_type": "execute_result"
    }
   ],
   "source": [
    "train[\"00016d63b5034c9565b3248f57dd3ba7\"]"
   ]
  },
  {
   "cell_type": "code",
   "execution_count": null,
   "metadata": {},
   "outputs": [],
   "source": [
    "# 写出\n",
    "with open(train_file, 'w', encoding = 'utf-8') as f:\n",
    "    f.write(str(train))"
   ]
  }
 ],
 "metadata": {
  "kernelspec": {
   "display_name": "Python 3",
   "language": "python",
   "name": "python3"
  },
  "language_info": {
   "codemirror_mode": {
    "name": "ipython",
    "version": 3
   },
   "file_extension": ".py",
   "mimetype": "text/x-python",
   "name": "python",
   "nbconvert_exporter": "python",
   "pygments_lexer": "ipython3",
   "version": "3.6.1"
  }
 },
 "nbformat": 4,
 "nbformat_minor": 2
}
