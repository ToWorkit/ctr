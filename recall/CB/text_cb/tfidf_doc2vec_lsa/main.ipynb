{
 "cells": [
  {
   "cell_type": "code",
   "execution_count": 1,
   "metadata": {},
   "outputs": [
    {
     "name": "stdout",
     "output_type": "stream",
     "text": [
      "importing Jupyter notebook from tfidf.ipynb\n",
      "importing Jupyter notebook from process.ipynb\n",
      "importing Jupyter notebook from doc2vec.ipynb\n",
      "importing Jupyter notebook from lsa.ipynb\n"
     ]
    }
   ],
   "source": [
    "import Ipynb_importer\n",
    "import tfidf\n",
    "import doc2vec\n",
    "import lsa"
   ]
  },
  {
   "cell_type": "code",
   "execution_count": 2,
   "metadata": {},
   "outputs": [],
   "source": [
    "PATH = \"F:\\\\github\\\\python_search-master\\\\com\\\\sy\\\\movie_data\\\\\""
   ]
  },
  {
   "cell_type": "code",
   "execution_count": 3,
   "metadata": {},
   "outputs": [],
   "source": [
    "# 测试\n",
    "class MainTest():\n",
    "    def __init__(self,stopwords,title,text):\n",
    "        self.stopwordsPath=stopwords\n",
    "        self.filmTitle=title\n",
    "        self.filmIntro=text\n",
    "        \n",
    "    def tfidfSearch(self,query):\n",
    "        TF=tfidf.TFIDF(self.stopwordsPath,self.filmTitle,self.filmIntro)\n",
    "        TF.tfIDFSearch(query)\n",
    "        \n",
    "    def lsaSearch(self,query):\n",
    "        LSA=lsa.LSA(self.stopwordsPath,self.filmTitle,self.filmIntro)\n",
    "        LSA.lsaSearch(query)\n",
    "        \n",
    "    def doc2vec(self, query):\n",
    "        Doc2vec=doc2vec.Doc2vec(self.stopwordsPath,self.filmTitle,self.filmIntro)\n",
    "        Doc2vec.doc2VecSearch(query)"
   ]
  },
  {
   "cell_type": "code",
   "execution_count": 4,
   "metadata": {},
   "outputs": [],
   "source": [
    "if __name__=='__main__':\n",
    "    test=MainTest(PATH + 'stopwords.txt',PATH + '电影名称.txt', PATH + '电影简介.txt')\n",
    "    query='愤怒'"
   ]
  },
  {
   "cell_type": "code",
   "execution_count": 5,
   "metadata": {},
   "outputs": [
    {
     "name": "stderr",
     "output_type": "stream",
     "text": [
      "Building prefix dict from the default dictionary ...\n",
      "Loading model from cache C:\\Users\\hedy\\AppData\\Local\\Temp\\jieba.cache\n"
     ]
    },
    {
     "name": "stdout",
     "output_type": "stream",
     "text": [
      "------tfidf-------\n"
     ]
    },
    {
     "name": "stderr",
     "output_type": "stream",
     "text": [
      "Loading model cost 0.688 seconds.\n",
      "Prefix dict has been built succesfully.\n"
     ]
    },
    {
     "name": "stdout",
     "output_type": "stream",
     "text": [
      "[0.         0.         0.         0.         0.         0.\n",
      " 0.         0.         0.         0.         0.08014014 0.\n",
      " 0.         0.         0.         0.         0.         0.\n",
      " 0.         0.         0.         0.         0.         0.\n",
      " 0.         0.         0.         0.         0.         0.\n",
      " 0.         0.         0.         0.         0.         0.\n",
      " 0.         0.         0.         0.         0.         0.\n",
      " 0.         0.         0.         0.         0.         0.\n",
      " 0.         0.         0.         0.         0.         0.\n",
      " 0.         0.         0.         0.         0.         0.\n",
      " 0.         0.         0.10333627 0.         0.         0.\n",
      " 0.         0.         0.         0.         0.         0.\n",
      " 0.         0.         0.         0.         0.         0.\n",
      " 0.         0.         0.         0.         0.         0.\n",
      " 0.         0.         0.         0.         0.         0.        ]\n",
      "sim: 0.103336,title: 《不可饶恕》\n",
      "sim: 0.080140,title: 《愤怒的公牛》1980\n",
      "sim: 0.000000,title: 《枭巢喋血战》1941\n",
      "sim: 0.000000,title: 《双重保险》1944\n",
      "sim: 0.000000,title: 《唐人街》1974\n"
     ]
    }
   ],
   "source": [
    "print('------tfidf-------')\n",
    "test.tfidfSearch(query)"
   ]
  },
  {
   "cell_type": "code",
   "execution_count": 6,
   "metadata": {},
   "outputs": [
    {
     "name": "stdout",
     "output_type": "stream",
     "text": [
      "------lsa-------\n",
      "sim: 0.590343,title: 《愤怒的公牛》1980\n",
      "sim: 0.241078,title: 《盗亦有道》\n",
      "sim: 0.146602,title: 《黄金时代》1946\n",
      "sim: 0.139493,title: 《教父续集》1974\n",
      "sim: 0.130792,title: 《唐人街》1974\n"
     ]
    }
   ],
   "source": [
    "print('------lsa-------')\n",
    "test.lsaSearch(query)"
   ]
  },
  {
   "cell_type": "code",
   "execution_count": 7,
   "metadata": {},
   "outputs": [
    {
     "name": "stdout",
     "output_type": "stream",
     "text": [
      "------doc2vec-------\n",
      "epoch: 0\n"
     ]
    },
    {
     "name": "stderr",
     "output_type": "stream",
     "text": [
      "c:\\users\\hedy\\appdata\\local\\programs\\python\\python36\\lib\\site-packages\\gensim\\models\\doc2vec.py:574: UserWarning: The parameter `size` is deprecated, will be removed in 4.0.0, use `vector_size` instead.\n",
      "  warnings.warn(\"The parameter `size` is deprecated, will be removed in 4.0.0, use `vector_size` instead.\")\n"
     ]
    },
    {
     "name": "stdout",
     "output_type": "stream",
     "text": [
      "epoch: 1\n",
      "epoch: 2\n",
      "epoch: 3\n",
      "epoch: 4\n",
      "epoch: 5\n",
      "epoch: 6\n",
      "epoch: 7\n",
      "epoch: 8\n",
      "epoch: 9\n",
      "epoch: 10\n",
      "epoch: 11\n",
      "epoch: 12\n",
      "epoch: 13\n",
      "epoch: 14\n",
      "epoch: 15\n",
      "epoch: 16\n",
      "epoch: 17\n",
      "epoch: 18\n",
      "epoch: 19\n",
      "sim: 0.100534,title: 《日落大道》1950\n",
      "sim: 0.089860,title: 《十二怒汉》\n",
      "sim: 0.084226,title: 《愤怒的公牛》1980\n",
      "sim: 0.080981,title: 《欢乐时光》\n",
      "sim: 0.078381,title: 《阿甘正传》\n"
     ]
    }
   ],
   "source": [
    "print('------doc2vec-------')\n",
    "test.doc2vec(query)"
   ]
  },
  {
   "cell_type": "code",
   "execution_count": null,
   "metadata": {},
   "outputs": [],
   "source": []
  }
 ],
 "metadata": {
  "kernelspec": {
   "display_name": "Python 3",
   "language": "python",
   "name": "python3"
  },
  "language_info": {
   "codemirror_mode": {
    "name": "ipython",
    "version": 3
   },
   "file_extension": ".py",
   "mimetype": "text/x-python",
   "name": "python",
   "nbconvert_exporter": "python",
   "pygments_lexer": "ipython3",
   "version": "3.6.1"
  }
 },
 "nbformat": 4,
 "nbformat_minor": 2
}
