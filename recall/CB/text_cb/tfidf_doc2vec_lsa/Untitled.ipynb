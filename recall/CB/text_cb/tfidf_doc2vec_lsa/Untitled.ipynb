{
 "cells": [
  {
   "cell_type": "code",
   "execution_count": 2,
   "metadata": {},
   "outputs": [
    {
     "name": "stdout",
     "output_type": "stream",
     "text": [
      "importing Jupyter notebook from process.ipynb\n"
     ]
    }
   ],
   "source": [
    "import jieba\n",
    "from sklearn.feature_extraction.text import TfidfVectorizer\n",
    "from sklearn.metrics.pairwise import cosine_similarity\n",
    "import Ipynb_importer\n",
    "# 自定义预处理\n",
    "import process"
   ]
  },
  {
   "cell_type": "code",
   "execution_count": null,
   "metadata": {},
   "outputs": [],
   "source": [
    "class TFIDF():\n",
    "    \"\"\"利用单词的tfidf和consine计算query与doc的相关性\"\"\"\n",
    "    def __init__(self, stopWordsPath, fileTitle, fileIntro):\n",
    "        initData=process.Init()\n",
    "        # 停用词\n",
    "        self.stopWords=initData.loadStopWords(stopWordsPath)\n",
    "        # 数据集 title，word\n",
    "        self.filmTitles,self.filmDocs=initData.readData(fileTitle,fileIntro)\n",
    "        \n",
    "    def cuText(self):\n",
    "        \"\"\"对文章进行切词\"\"\"\n",
    "        cutFileDocs = []\n",
    "        for filmDoc in self.filmDocs:\n",
    "        \n",
    "    def segment(self, text):\n",
    "        \"\"\"分词\"\"\"\n",
    "        words = jieba.cut(text)\n",
    "        # 停用词过滤\n",
    "        wordsList = [for word in words if word in self.stopWords]\n",
    "        return \" \".join(wordsList)"
   ]
  }
 ],
 "metadata": {
  "kernelspec": {
   "display_name": "Python 3",
   "language": "python",
   "name": "python3"
  },
  "language_info": {
   "codemirror_mode": {
    "name": "ipython",
    "version": 3
   },
   "file_extension": ".py",
   "mimetype": "text/x-python",
   "name": "python",
   "nbconvert_exporter": "python",
   "pygments_lexer": "ipython3",
   "version": "3.6.1"
  }
 },
 "nbformat": 4,
 "nbformat_minor": 2
}
