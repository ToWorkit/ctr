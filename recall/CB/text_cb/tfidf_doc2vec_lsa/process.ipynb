{
 "cells": [
  {
   "cell_type": "markdown",
   "metadata": {},
   "source": [
    "#### 加载数据(数据集，停用词集)"
   ]
  },
  {
   "cell_type": "code",
   "execution_count": 1,
   "metadata": {},
   "outputs": [],
   "source": [
    "import codecs"
   ]
  },
  {
   "cell_type": "code",
   "execution_count": 2,
   "metadata": {},
   "outputs": [],
   "source": [
    "class Init():\n",
    "    def loadStopWords(self, stopWordsPath):\n",
    "        '''加载停用词'''\n",
    "        stopWordsList = [line.strip() for line in codecs.open(stopWordsPath, 'r', 'utf-8').readlines()]\n",
    "        stopWords = {}.fromkeys(stopWordsList)\n",
    "        return stopWords\n",
    "    \n",
    "    def readData(self, fileTitle, fileIntro):\n",
    "        '''读取电影相关数据，返回电影标题和简介'''\n",
    "        filmDocs = []  # 电影简介\n",
    "        filmTitles = []  # 电影标题\n",
    "        filmTitleDict = {}\n",
    "        with codecs.open(fileTitle, 'r', 'utf-8') as file:\n",
    "            id = 0\n",
    "            for line in file:\n",
    "                id += 1\n",
    "                filmTitleDict[id] = line.strip()\n",
    "                \n",
    "        with codecs.open(fileIntro, 'r', 'utf-8') as file:\n",
    "            id = 0\n",
    "            for line in file:\n",
    "                id += 1\n",
    "                filmTitles.append(filmTitleDict[id])\n",
    "                filmDocs.append(line.strip())\n",
    "                \n",
    "        return filmTitles,filmDocs"
   ]
  },
  {
   "cell_type": "code",
   "execution_count": null,
   "metadata": {},
   "outputs": [],
   "source": []
  }
 ],
 "metadata": {
  "kernelspec": {
   "display_name": "Python 3",
   "language": "python",
   "name": "python3"
  },
  "language_info": {
   "codemirror_mode": {
    "name": "ipython",
    "version": 3
   },
   "file_extension": ".py",
   "mimetype": "text/x-python",
   "name": "python",
   "nbconvert_exporter": "python",
   "pygments_lexer": "ipython3",
   "version": "3.6.1"
  }
 },
 "nbformat": 4,
 "nbformat_minor": 2
}
