{
 "cells": [
  {
   "cell_type": "code",
   "execution_count": 1,
   "metadata": {},
   "outputs": [
    {
     "data": {
      "text/plain": [
       "'\\nhttps://www.cnblogs.com/earendil/p/8194875.html\\nhttp://www.shuang0420.com/2017/02/17/%E6%8E%A8%E8%8D%90%E7%B3%BB%E7%BB%9F--%E9%9A%90%E8%AF%AD%E4%B9%89%E6%A8%A1%E5%9E%8BLFM/\\n'"
      ]
     },
     "execution_count": 1,
     "metadata": {},
     "output_type": "execute_result"
    }
   ],
   "source": [
    "'''\n",
    "https://www.cnblogs.com/earendil/p/8194875.html\n",
    "http://www.shuang0420.com/2017/02/17/%E6%8E%A8%E8%8D%90%E7%B3%BB%E7%BB%9F--%E9%9A%90%E8%AF%AD%E4%B9%89%E6%A8%A1%E5%9E%8BLFM/\n",
    "'''"
   ]
  },
  {
   "cell_type": "code",
   "execution_count": 2,
   "metadata": {},
   "outputs": [
    {
     "data": {
      "text/plain": [
       "'\\nlfm召回算法\\n'"
      ]
     },
     "execution_count": 2,
     "metadata": {},
     "output_type": "execute_result"
    }
   ],
   "source": [
    "'''\n",
    "lfm召回算法\n",
    "'''"
   ]
  },
  {
   "cell_type": "code",
   "execution_count": 3,
   "metadata": {},
   "outputs": [
    {
     "name": "stdout",
     "output_type": "stream",
     "text": [
      "importing Jupyter notebook from read.ipynb\n",
      "67186\n",
      "[('1', '1', 1), ('1', '3', 1), ('1', '6', 1), ('1', '47', 1), ('1', '50', 1), ('1', '101', 1), ('1', '110', 1), ('1', '151', 1), ('1', '157', 1), ('1', '163', 1), ('1', '216', 1), ('1', '231', 1), ('1', '235', 1), ('1', '260', 1), ('1', '333', 1), ('1', '349', 1), ('1', '356', 1), ('1', '362', 1), ('1', '367', 1), ('1', '441', 1), ('1', '457', 1), ('1', '480', 1), ('1', '527', 1), ('1', '543', 1), ('1', '552', 1), ('1', '553', 1), ('1', '590', 1), ('1', '592', 1), ('1', '593', 1), ('1', '596', 1), ('1', '608', 1), ('1', '661', 1), ('1', '296', 0), ('1', '1258', 0), ('1', '1219', 0), ('1', '223', 0), ('1', '1408', 0), ('1', '648', 0), ('1', '70', 0), ('1', '1580', 0)]\n"
     ]
    }
   ],
   "source": [
    "# 初始化需要用到\n",
    "import numpy as np\n",
    "# 从util引入获取训练集的函数\n",
    "import sys\n",
    "sys.path.append(r\"F:\\\\FictionRecommend\\\\\")\n",
    "import Ipynb_importer\n",
    "import read\n",
    "# print(read)\n",
    "# 排序\n",
    "import operator"
   ]
  },
  {
   "cell_type": "code",
   "execution_count": 4,
   "metadata": {},
   "outputs": [],
   "source": [
    "movies_file = \"F:\\\\badou\\\\tmp\\\\data\\\\recommender\\\\data\\\\ml-latest-small\\\\movies.csv\"\n",
    "ratings_file = \"F:\\\\badou\\\\tmp\\\\data\\\\recommender\\\\data\\\\ml-latest-small\\\\ratings.csv\""
   ]
  },
  {
   "cell_type": "code",
   "execution_count": 5,
   "metadata": {},
   "outputs": [],
   "source": [
    "def lfm_train(train_data, F, alpha, beta, step):\n",
    "    '''\n",
    "    lfm 模型的训练\n",
    "    :param train_data:\n",
    "        训练集\n",
    "    :param F:\n",
    "        维度(分类数)[用户向量和item向量的长度(维度)]\n",
    "    :param alpha:\n",
    "        正则化参数\n",
    "    :param beta:\n",
    "        学习率\n",
    "    :param step:\n",
    "        迭代次数\n",
    "    :return:\n",
    "        两个 np.ndarray:\n",
    "            user向量\n",
    "            item向量\n",
    "    '''\n",
    "    user_vec = {}\n",
    "    item_vec = {}\n",
    "    \n",
    "    # 迭代\n",
    "    for step_index in range(step):\n",
    "        # 从训练样本中获取每一个实例\n",
    "        for data_instance in train_data:\n",
    "            user_id, item_id, label = data_instance\n",
    "            # 第一次训练初始化(初始化为长度为F的向量)\n",
    "            if user_id not in user_vec:\n",
    "                user_vec[user_id] = init_model(F)\n",
    "            if item_id not in item_vec:\n",
    "                item_vec[item_id] = init_model(F)\n",
    "        # 模型预测\n",
    "        delta = label - model_predict(user_vec[user_id], item_vec[item_id])\n",
    "        # 模型迭代参数\n",
    "        for index in range(F):\n",
    "            # 对user_vec的每一个维度(index)也就是f\n",
    "            # 相当于公式中西格玛下面的 f = 1\n",
    "            # loss函数对于 pu 小 f 求偏导\n",
    "            user_vec[user_id][index] += beta * (delta * item_vec[item_id][index] - alpha * user_vec[user_id][index])\n",
    "            # pi 小 f\n",
    "            item_vec[item_id][index] += beta * (delta * user_vec[user_id][index] - alpha * item_vec[item_id][index])\n",
    "        # 每一轮迭代在参数更加接近收敛时使参数变换的慢一些\n",
    "        beta = beta * 0.9\n",
    "    return user_vec, item_vec"
   ]
  },
  {
   "cell_type": "code",
   "execution_count": 6,
   "metadata": {},
   "outputs": [],
   "source": [
    "# 按照标准的正态分布进行初始化\n",
    "def init_model(vector_len):\n",
    "    '''\n",
    "    :param vector_len:\n",
    "        F\n",
    "    :return:\n",
    "        ndarray的数据结构\n",
    "    '''\n",
    "    return np.random.randn(vector_len)"
   ]
  },
  {
   "cell_type": "code",
   "execution_count": 7,
   "metadata": {},
   "outputs": [],
   "source": [
    "def model_predict(user_vector, item_vector):\n",
    "    '''\n",
    "    :param user_vector:\n",
    "        模型产出的用户向量\n",
    "    :param item_vector:\n",
    "        模型产出的item向量\n",
    "    :return:\n",
    "        返回一个 num\n",
    "            表示user_vec和item_vec之间的远近(即模型认为的推荐强度)\n",
    "    '''\n",
    "    # 使用余弦来表示距离\n",
    "    # dot 内积\n",
    "    res = np.dot(user_vector, item_vector) / (np.linalg.norm(user_vector) * np.linalg.norm(item_vector))\n",
    "    return res"
   ]
  },
  {
   "cell_type": "code",
   "execution_count": 8,
   "metadata": {},
   "outputs": [],
   "source": [
    "def give_recom_result(user_vec, item_vec, user_id):\n",
    "    '''\n",
    "    :param user_vec:\n",
    "    :param item_vec:\n",
    "        模型的结果\n",
    "    :param user_id:\n",
    "        推荐的结果\n",
    "    :return:\n",
    "        list[(item_id, score), (item_id1, score)]\n",
    "    '''\n",
    "    topN = 10\n",
    "\n",
    "    if user_id not in user_vec:\n",
    "        return []\n",
    "    \n",
    "    # 存储每一个item和user_vec之间的距离\n",
    "    record = {}\n",
    "    recom_list = []\n",
    "    user_vector = user_vec[user_id]\n",
    "    \n",
    "    for item_id in item_vec:\n",
    "        # 每一个item_id和user_id对应的向量(vec)之间的距离\n",
    "        item_vector = item_vec[item_id]\n",
    "        # 用欧氏距离计算\n",
    "        res = np.dot(user_vector, item_vector) / (np.linalg.norm(user_vector) * np.linalg.norm(item_vector))\n",
    "        record[item_id] = res\n",
    "        \n",
    "    # topn 推荐\n",
    "    for zuhe in sorted(record.items(), key = operator.itemgetter(1), reverse = True)[:topN]:\n",
    "        item_id = zuhe[0]\n",
    "        # 3位有效数字\n",
    "        score = round(zuhe[1], 3)\n",
    "        recom_list.append((item_id, score))\n",
    "        \n",
    "        \n",
    "    return recom_list"
   ]
  },
  {
   "cell_type": "code",
   "execution_count": 9,
   "metadata": {},
   "outputs": [],
   "source": [
    "def ana_recom_result(train_data, user_id, recom_list):\n",
    "    \"\"\"测试，判断推荐结果的准确性\"\"\"\n",
    "    item_info = read.get_item_info(movies_file)\n",
    "    # 标签数据\n",
    "    for data_instance in train_data:\n",
    "        tmp_user_id, item_id, label = data_instance\n",
    "        if tmp_user_id == user_id and label == 1:\n",
    "            print(item_info[item_id], \" \", item_id)\n",
    "    print(\"recom list\" + \"***\" * 30)\n",
    "    \n",
    "    # 推荐结果\n",
    "    for zuhe in recom_list:\n",
    "        print(item_info[zuhe[0]], \" \", zuhe[0])"
   ]
  },
  {
   "cell_type": "code",
   "execution_count": 10,
   "metadata": {},
   "outputs": [],
   "source": [
    "def model_train_process():\n",
    "    '''\n",
    "    :return:\n",
    "    '''\n",
    "    # 训练数据\n",
    "    train_data = read.get_train_data(ratings_file)\n",
    "    user_vec, item_vec = lfm_train(train_data, 50, 0.01, 0.1, 50)\n",
    "    # userid, itemid 1,648\n",
    "    # print(user_vec[\"1\"])\n",
    "    # print(item_vec[\"648\"])\n",
    "\n",
    "    recom_list = give_recom_result(user_vec, item_vec, \"24\")\n",
    "    ana_recom_result(train_data, \"24\", recom_list)\n",
    "\n",
    "#     for user_id in user_vec:\n",
    "#         recom_list = give_recom_result(user_vec, item_vec, user_id)"
   ]
  },
  {
   "cell_type": "code",
   "execution_count": 11,
   "metadata": {},
   "outputs": [
    {
     "name": "stdout",
     "output_type": "stream",
     "text": [
      "['Heat (1995)', 'Action|Crime|Thriller']   6\n",
      "['\"Usual Suspects, The (1995)\"', 'Crime|Mystery|Thriller']   50\n",
      "['Pulp Fiction (1994)', 'Comedy|Crime|Drama|Thriller']   296\n",
      "['\"Shawshank Redemption, The (1994)\"', 'Crime|Drama']   318\n",
      "['Forrest Gump (1994)', 'Comedy|Drama|Romance|War']   356\n",
      "['\"Silence of the Lambs, The (1991)\"', 'Crime|Horror|Thriller']   593\n",
      "['Fargo (1996)', 'Comedy|Crime|Drama|Thriller']   608\n",
      "['\"Princess Bride, The (1987)\"', 'Action|Adventure|Comedy|Fantasy|Romance']   1197\n",
      "['Raiders of the Lost Ark (Indiana Jones and the Raiders of the Lost Ark) (1981)', 'Action|Adventure']   1198\n",
      "['Dead Poets Society (1989)', 'Drama']   1246\n",
      "['Groundhog Day (1993)', 'Comedy|Fantasy|Romance']   1265\n",
      "['Sneakers (1992)', 'Action|Comedy|Crime|Drama|Sci-Fi']   1396\n",
      "['\"Fifth Element, The (1997)\"', 'Action|Adventure|Comedy|Sci-Fi']   1527\n",
      "['Men in Black (a.k.a. MIB) (1997)', 'Action|Comedy|Sci-Fi']   1580\n",
      "['Good Will Hunting (1997)', 'Drama|Romance']   1704\n",
      "['As Good as It Gets (1997)', 'Comedy|Drama|Romance']   1784\n",
      "['Saving Private Ryan (1998)', 'Action|Drama|War']   2028\n",
      "['Indiana Jones and the Temple of Doom (1984)', 'Action|Adventure|Fantasy']   2115\n",
      "[\"You've Got Mail (1998)\", 'Comedy|Romance']   2424\n",
      "['\"Matrix, The (1999)\"', 'Action|Sci-Fi|Thriller']   2571\n",
      "['\"Red Violin, The (Violon rouge, Le) (1998)\"', 'Drama|Mystery']   2686\n",
      "['\"Green Mile, The (1999)\"', 'Crime|Drama']   3147\n",
      "['Gladiator (2000)', 'Action|Adventure|Drama']   3578\n",
      "['\"O Brother, Where Art Thou? (2000)\"', 'Adventure|Comedy|Crime']   4027\n",
      "['Scarface (1983)', 'Action|Crime|Drama']   4262\n",
      "['Coming to America (1988)', 'Comedy|Romance']   4489\n",
      "['Dirty Harry (1971)', 'Action|Crime|Thriller']   4855\n",
      "['The Count of Monte Cristo (2002)', 'Action|Adventure|Drama|Thriller']   5064\n",
      "['\"Bourne Identity, The (2002)\"', 'Action|Mystery|Thriller']   5418\n",
      "['Punch-Drunk Love (2002)', 'Comedy|Drama|Romance']   5673\n",
      "['Frida (2002)', 'Drama|Romance']   5791\n",
      "['Laputa: Castle in the Sky (Tenkû no shiro Rapyuta) (1986)', 'Action|Adventure|Animation|Children|Fantasy|Sci-Fi']   6350\n",
      "['\"Last Samurai, The (2003)\"', 'Action|Adventure|Drama|War']   7143\n",
      "['Old Boy (2003)', 'Mystery|Thriller']   27773\n",
      "['\"40-Year-Old Virgin, The (2005)\"', 'Comedy|Romance']   35836\n",
      "['Kiss Kiss Bang Bang (2005)', 'Comedy|Crime|Mystery|Thriller']   38061\n",
      "['V for Vendetta (2006)', 'Action|Sci-Fi|Thriller|IMAX']   44191\n",
      "['Stranger than Fiction (2006)', 'Comedy|Drama|Fantasy|Romance']   46976\n",
      "['300 (2007)', 'Action|Fantasy|War|IMAX']   51662\n",
      "['\"Bourne Ultimatum, The (2007)\"', 'Action|Crime|Thriller']   54286\n",
      "['\"Dark Knight, The (2008)\"', 'Action|Crime|Drama|IMAX']   58559\n",
      "['Forgetting Sarah Marshall (2008)', 'Comedy|Romance']   58998\n",
      "['\"Curious Case of Benjamin Button, The (2008)\"', 'Drama|Fantasy|Mystery|Romance']   64957\n",
      "['Star Trek (2009)', 'Action|Adventure|Sci-Fi|IMAX']   68358\n",
      "['District 9 (2009)', 'Mystery|Sci-Fi|Thriller']   70286\n",
      "['Up in the Air (2009)', 'Drama|Romance']   72011\n",
      "['Inception (2010)', 'Action|Crime|Drama|Mystery|Sci-Fi|Thriller|IMAX']   79132\n",
      "['Midnight in Paris (2011)', 'Comedy|Fantasy|Romance']   86882\n",
      "['\"Dark Knight Rises, The (2012)\"', 'Action|Adventure|Crime|IMAX']   91529\n",
      "['Men in Black III (M.III.B.) (M.I.B.³) (2012)', 'Action|Comedy|Sci-Fi|IMAX']   94777\n",
      "['Kingsman: The Secret Service (2015)', 'Action|Adventure|Comedy|Crime']   119145\n",
      "['Man Up (2015)', 'Comedy|Romance']   132660\n",
      "['The Martian (2015)', 'Adventure|Drama|Sci-Fi']   134130\n",
      "['Inside Out (2015)', 'Adventure|Animation|Children|Comedy|Drama|Fantasy']   134853\n",
      "recom list******************************************************************************************\n",
      "['Shooting Fish (1997)', 'Comedy|Romance']   1755\n",
      "['\"Center of the World, The (2001)\"', 'Drama']   4256\n",
      "['Village of the Damned (1960)', 'Horror|Sci-Fi|Thriller']   2553\n",
      "['\"Nobody Speak: Hulk Hogan, Gawker and Trials of a Free Press (2017)\"', 'Documentary']   171251\n",
      "['Below (2002)', 'Horror']   5663\n",
      "['Control (Kontroll) (2003)', 'Comedy|Crime|Drama|Mystery']   31952\n",
      "['\"MatchMaker, The (1997)\"', 'Comedy|Romance']   1629\n",
      "['Where the Wild Things Are (2009)', 'Adventure|Children|Drama|Fantasy|IMAX']   71745\n",
      "['\"Misérables, Les (2012)\"', 'Drama|Musical|Romance|IMAX']   99149\n",
      "[\"Porky's Hare Hunt (1938)\", 'Animation|Children|Comedy']   182299\n"
     ]
    }
   ],
   "source": [
    "model_train_process()"
   ]
  },
  {
   "cell_type": "code",
   "execution_count": null,
   "metadata": {},
   "outputs": [],
   "source": []
  }
 ],
 "metadata": {
  "kernelspec": {
   "display_name": "Python 3",
   "language": "python",
   "name": "python3"
  },
  "language_info": {
   "codemirror_mode": {
    "name": "ipython",
    "version": 3
   },
   "file_extension": ".py",
   "mimetype": "text/x-python",
   "name": "python",
   "nbconvert_exporter": "python",
   "pygments_lexer": "ipython3",
   "version": "3.6.1"
  }
 },
 "nbformat": 4,
 "nbformat_minor": 2
}
