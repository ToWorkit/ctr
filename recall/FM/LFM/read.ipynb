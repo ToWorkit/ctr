{
 "cells": [
  {
   "cell_type": "code",
   "execution_count": 1,
   "metadata": {},
   "outputs": [
    {
     "data": {
      "text/plain": [
       "'\\nmovies.csv\\nmovieId,title,genres\\n1,Toy Story (1995),Adventure|Animation|Children|Comedy|Fantasy\\n2,Jumanji (1995),Adventure|Children|Fantasy\\n3,Grumpier Old Men (1995),Comedy|Romance\\n4,Waiting to Exhale (1995),Comedy|Drama|Romance\\n5,Father of the Bride Part II (1995),Comedy\\n6,Heat (1995),Action|Crime|Thriller\\n7,Sabrina (1995),Comedy|Romance\\n8,Tom and Huck (1995),Adventure|Children\\n9,Sudden Death (1995),Action\\n10,GoldenEye (1995),Action|Adventure|Thriller\\n11,\"American President, The (1995)\",Comedy|Drama|Romance\\n\\nratings\\nuserId,movieId,rating,timestamp\\n1,1,4.0,964982703\\n1,3,4.0,964981247\\n1,6,4.0,964982224\\n1,47,5.0,964983815\\n1,50,5.0,964982931\\n1,70,3.0,964982400\\n'"
      ]
     },
     "execution_count": 1,
     "metadata": {},
     "output_type": "execute_result"
    }
   ],
   "source": [
    "'''\n",
    "movies.csv\n",
    "movieId,title,genres\n",
    "1,Toy Story (1995),Adventure|Animation|Children|Comedy|Fantasy\n",
    "2,Jumanji (1995),Adventure|Children|Fantasy\n",
    "3,Grumpier Old Men (1995),Comedy|Romance\n",
    "4,Waiting to Exhale (1995),Comedy|Drama|Romance\n",
    "5,Father of the Bride Part II (1995),Comedy\n",
    "6,Heat (1995),Action|Crime|Thriller\n",
    "7,Sabrina (1995),Comedy|Romance\n",
    "8,Tom and Huck (1995),Adventure|Children\n",
    "9,Sudden Death (1995),Action\n",
    "10,GoldenEye (1995),Action|Adventure|Thriller\n",
    "11,\"American President, The (1995)\",Comedy|Drama|Romance\n",
    "\n",
    "ratings\n",
    "userId,movieId,rating,timestamp\n",
    "1,1,4.0,964982703\n",
    "1,3,4.0,964981247\n",
    "1,6,4.0,964982224\n",
    "1,47,5.0,964983815\n",
    "1,50,5.0,964982931\n",
    "1,70,3.0,964982400\n",
    "'''"
   ]
  },
  {
   "cell_type": "code",
   "execution_count": 2,
   "metadata": {},
   "outputs": [],
   "source": [
    "import os"
   ]
  },
  {
   "cell_type": "code",
   "execution_count": 3,
   "metadata": {},
   "outputs": [],
   "source": [
    "movies_file = \"F:\\\\badou\\\\tmp\\\\data\\\\recommender\\\\data\\\\ml-latest-small\\\\movies.csv\"\n",
    "ratings_file = \"F:\\\\badou\\\\tmp\\\\data\\\\recommender\\\\data\\\\ml-latest-small\\\\ratings.csv\""
   ]
  },
  {
   "cell_type": "code",
   "execution_count": 4,
   "metadata": {},
   "outputs": [],
   "source": [
    "# movies\n",
    "def get_item_info(input_file):\n",
    "    # 判断文件是否存在\n",
    "    if not os.path.exists(input_file):\n",
    "        return {}\n",
    "    item_info = {}\n",
    "    linenum = 0\n",
    "    fp = open(input_file, \"r\", encoding = \"utf-8\")\n",
    "    for line in fp:\n",
    "        # 跳过表头\n",
    "        if linenum == 0:\n",
    "            linenum += 1\n",
    "            continue\n",
    "        item = line.strip().split(\",\")\n",
    "        if len(item) < 3:\n",
    "            continue\n",
    "        elif len(item) == 3:\n",
    "            itemid, title, genre = item[0], item[1], item[2]\n",
    "        elif len(item) > 3:\n",
    "            itemid = item[0]\n",
    "            # 类别\n",
    "            genre = item[-1]\n",
    "            # 有些title中也有,\n",
    "            title = \",\".join(item[1:-1])\n",
    "        item_info[itemid] = [title, genre]\n",
    "    fp.close()\n",
    "    return item_info"
   ]
  },
  {
   "cell_type": "code",
   "execution_count": 5,
   "metadata": {},
   "outputs": [],
   "source": [
    "# ratings\n",
    "def get_ave_score(input_file):\n",
    "    if not os.path.exists(input_file):\n",
    "        return {}\n",
    "    line_num = 0\n",
    "    # 中间变量，存储item一共被多少人点评过\n",
    "    record_dict = {}\n",
    "    # 评分数据\n",
    "    score_dict = {}\n",
    "    fp = open(input_file, \"r\", encoding = \"utf-8\")\n",
    "    for line in fp:\n",
    "        if line_num == 0:\n",
    "            line_num += 1\n",
    "            continue\n",
    "        item = line.strip().split(\",\")\n",
    "        if len(item) < 4:\n",
    "            continue\n",
    "        userid, itemid, rating = item[0], item[1], item[2]\n",
    "        # 记录item被多少人打分过\n",
    "        if itemid not in record_dict:\n",
    "            record_dict[itemid] = [0, 0]\n",
    "        # 计数\n",
    "        record_dict[itemid][0] += 1\n",
    "        # 打分累加\n",
    "        record_dict[itemid][1] += float(rating)\n",
    "    fp.close()\n",
    "    # 将结果存入输出的数据结构中\n",
    "    for itemid in record_dict:\n",
    "        # 保留三位有效数字(求平均)\n",
    "        score_dict[itemid] = round(record_dict[itemid][1] / record_dict[itemid][0], 3)\n",
    "    return score_dict"
   ]
  },
  {
   "cell_type": "code",
   "execution_count": 6,
   "metadata": {},
   "outputs": [],
   "source": [
    "# train\n",
    "def get_train_data(input_file):\n",
    "    '''\n",
    "    特征工程，准备训练数据\n",
    "    :param input_file:\n",
    "        ratings_file: userid itemid rating\n",
    "    :return:\n",
    "        a list[(userid, itemid, label), (userid1, itemid1, label)]\n",
    "    '''\n",
    "    if not os.path.exists(input_file):\n",
    "        return []\n",
    "    # 每一个item的平均得分\n",
    "    score_dict = get_ave_score(input_file)\n",
    "    # 负例\n",
    "    neg_dict = {}\n",
    "    # 正例\n",
    "    pos_dict = {}\n",
    "    # 训练数据集\n",
    "    train_data = []\n",
    "    # 正负样本阈值（打分）\n",
    "    score_thr = 4.0\n",
    "    # 跳过表头\n",
    "    linenum = 0\n",
    "    fp = open(input_file, \"r\", encoding = \"utf-8\")\n",
    "    for line in fp:\n",
    "        if linenum == 0:\n",
    "            linenum += 1\n",
    "            continue\n",
    "        item = line.strip().split(\",\")\n",
    "        if len(item) < 4:\n",
    "            continue\n",
    "        userid, itemid, rating = item[0], item[1], float(item[2])\n",
    "        # 得分 >= 4 喜欢 1 else 0 label\n",
    "        if userid not in pos_dict:\n",
    "            pos_dict[userid] = []\n",
    "        if userid not in neg_dict:\n",
    "            neg_dict[userid] = []\n",
    "        if rating >= score_thr:\n",
    "            # 存储为元组的格式 tuple\n",
    "            pos_dict[userid].append((itemid, 1))\n",
    "        else:\n",
    "            # 需要对负样本进行负采样\n",
    "            # 先存储平均打分，没有则为0\n",
    "            score = score_dict.get(itemid, 0)\n",
    "            neg_dict[userid].append((itemid, score))\n",
    "    fp.close()\n",
    "    \n",
    "    # 正负样本的均衡和负采样\n",
    "    for userid in pos_dict:\n",
    "        # [] 和 get() 功能相同\n",
    "        data_num = min(len(pos_dict[userid]), len(neg_dict.get(userid, [])))\n",
    "        # 正负样本的数目大于0, 先将正样本存储到输出的数据结构中同时限定数据量(data_num)\n",
    "        if data_num > 0:\n",
    "            # userid, itemid, label\n",
    "            train_data += [(userid, zuhe[0], zuhe[1]) for zuhe in pos_dict[userid]][:data_num]\n",
    "        else:\n",
    "            continue\n",
    "            \n",
    "        # 对userid所对应的负样本的数据进行排序(按照得分逆序排列取 训练样本 个数个)\n",
    "        sorted_neg_list = sorted(neg_dict[userid], key = lambda e: e[1], reverse = True)[:data_num]\n",
    "        # 将负样本加入训练样本中\n",
    "        train_data += [(userid, zuhe[0], 0) for zuhe in sorted_neg_list]\n",
    "        \n",
    "        #  查看userid 1 的正负样本比例以及排序后的数据\n",
    "#         if userid == \"1\":\n",
    "#             # 200 个正样本\n",
    "#             print(len(pos_dict[userid]))\n",
    "#             # 32 个负样本\n",
    "#             print(len(neg_dict[userid]))\n",
    "#             # 评分由高到低\n",
    "#             print(sorted_neg_list)\n",
    "        \n",
    "    return train_data"
   ]
  },
  {
   "cell_type": "code",
   "execution_count": 7,
   "metadata": {},
   "outputs": [],
   "source": [
    "train_data = get_train_data(ratings_file)"
   ]
  },
  {
   "cell_type": "code",
   "execution_count": 8,
   "metadata": {},
   "outputs": [
    {
     "name": "stdout",
     "output_type": "stream",
     "text": [
      "67186\n",
      "[('1', '1', 1), ('1', '3', 1), ('1', '6', 1), ('1', '47', 1), ('1', '50', 1), ('1', '101', 1), ('1', '110', 1), ('1', '151', 1), ('1', '157', 1), ('1', '163', 1), ('1', '216', 1), ('1', '231', 1), ('1', '235', 1), ('1', '260', 1), ('1', '333', 1), ('1', '349', 1), ('1', '356', 1), ('1', '362', 1), ('1', '367', 1), ('1', '441', 1), ('1', '457', 1), ('1', '480', 1), ('1', '527', 1), ('1', '543', 1), ('1', '552', 1), ('1', '553', 1), ('1', '590', 1), ('1', '592', 1), ('1', '593', 1), ('1', '596', 1), ('1', '608', 1), ('1', '661', 1), ('1', '296', 0), ('1', '1258', 0), ('1', '1219', 0), ('1', '223', 0), ('1', '1408', 0), ('1', '648', 0), ('1', '70', 0), ('1', '1580', 0)]\n"
     ]
    }
   ],
   "source": [
    "print(len(train_data))\n",
    "print(train_data[:40])"
   ]
  },
  {
   "cell_type": "code",
   "execution_count": null,
   "metadata": {},
   "outputs": [],
   "source": []
  }
 ],
 "metadata": {
  "kernelspec": {
   "display_name": "Python 3",
   "language": "python",
   "name": "python3"
  },
  "language_info": {
   "codemirror_mode": {
    "name": "ipython",
    "version": 3
   },
   "file_extension": ".py",
   "mimetype": "text/x-python",
   "name": "python",
   "nbconvert_exporter": "python",
   "pygments_lexer": "ipython3",
   "version": "3.6.1"
  }
 },
 "nbformat": 4,
 "nbformat_minor": 2
}
