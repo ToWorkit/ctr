{
 "cells": [
  {
   "cell_type": "code",
   "execution_count": 1,
   "metadata": {},
   "outputs": [
    {
     "name": "stdout",
     "output_type": "stream",
     "text": [
      "importing Jupyter notebook from process.ipynb\n"
     ]
    }
   ],
   "source": [
    "from __future__ import division\n",
    "# 避免整数相除为0(上面这个前面不能有注释)\n",
    "import operator\n",
    "import numpy as np\n",
    "\n",
    "# 从util引入获取训练集的函数\n",
    "import sys\n",
    "sys.path.append(r\"F:\\\\FictionRecommend\\\\\")\n",
    "import Ipynb_importer\n",
    "import process as read\n",
    "import numpy as np\n",
    "# 求矩阵的逆\n",
    "from scipy.sparse.linalg import gmres"
   ]
  },
  {
   "cell_type": "code",
   "execution_count": 2,
   "metadata": {},
   "outputs": [
    {
     "name": "stdout",
     "output_type": "stream",
     "text": [
      "importing Jupyter notebook from test_read.ipynb\n",
      "[[1 0 0 0 0 0 0 0 0]\n",
      " [0 1 0 0 0 0 0 0 0]\n",
      " [0 0 1 0 0 0 0 0 0]\n",
      " [0 0 0 1 0 0 0 0 0]\n",
      " [0 0 0 0 1 0 0 0 0]\n",
      " [0 0 0 0 0 1 0 0 0]\n",
      " [0 0 0 0 0 0 1 0 0]\n",
      " [0 0 0 0 0 0 0 1 0]\n",
      " [0 0 0 0 0 0 0 0 1]]\n"
     ]
    }
   ],
   "source": [
    "import test_read as mat_util"
   ]
  },
  {
   "cell_type": "code",
   "execution_count": 3,
   "metadata": {},
   "outputs": [],
   "source": [
    "# 测试文件\n",
    "log_file = \"F:/badou/tmp/data/recommender/personalRank/log.txt\"\n",
    "# 评分文件\n",
    "rating_file = \"F:/badou/tmp/data/recommender/personalRank/ratings.csv\"\n",
    "# 用来看推荐效果\n",
    "movies_file = \"F:\\\\badou\\\\tmp\\\\data\\\\recommender\\\\data\\\\ml-latest-small\\\\movies.csv\""
   ]
  },
  {
   "cell_type": "code",
   "execution_count": 4,
   "metadata": {},
   "outputs": [],
   "source": [
    "def personal_rank(graph, root, alpha, iter_num, recom_num = 10):\n",
    "    \"\"\"\n",
    "    基础算法版本\n",
    "    :param graph:\n",
    "        根据用户的行为得到的用户和item的图结构\n",
    "    :param root:\n",
    "        将要给那个user推荐 root顶点\n",
    "    :param alpha:\n",
    "        以 alpha 的概率选择向下游走，以 1 - alpha 的概率选择回到起点\n",
    "    :param iter_num:\n",
    "        迭代次数\n",
    "    :param recom_num:\n",
    "        推荐个数(默认10个)\n",
    "    :return:\n",
    "        dict 长度为推荐个数 recom_num\n",
    "            key -> item_id\n",
    "            value -> pr值(personal rank)\n",
    "    \"\"\"\n",
    "    # 存储所有的顶点对于root顶点的personal_rank值\n",
    "    rank = {}\n",
    "    # 初始值，除root顶点以外其余顶点personal_rank值都为0\n",
    "    rank = {point: 0 for point in graph}\n",
    "    # root顶点初始化为1\n",
    "    rank[root] = 1\n",
    "    # 输出的推荐dict\n",
    "    recom_result = {}\n",
    "    \n",
    "    for iter_index in range(iter_num):\n",
    "        # 用来存储当前迭代轮次下其余顶点对root顶点的pr值\n",
    "        tmp_rank = {point: 0 for point in graph}\n",
    "        \n",
    "        # 上部分公式\n",
    "        # 如果该顶点不是root顶点，则它的pr值 = 所有连接到该顶点的顶点将自己的pr值以 1/n 的概率贡献到该顶点上，\n",
    "        # 那么n就是连接到该顶点的这个顶点的出度\n",
    "        for out_point, out_dict in graph.items():\n",
    "            for inner_point, value in graph[out_point].items():\n",
    "                tmp_rank[inner_point] += round(alpha * rank[out_point] / len(out_dict), 4)\n",
    "                # 下半部分公式：如果该顶点同时是root顶点的话，不仅有公式上半部分构成还要加上 1 - alpha\n",
    "                if inner_point == root:\n",
    "                    tmp_rank[inner_point] += round(1 - alpha, 4)\n",
    "        \n",
    "        # 完全相同时可以停止迭代(收敛)\n",
    "        if tmp_rank == rank:\n",
    "            break\n",
    "        \n",
    "        # 继续往下迭代\n",
    "        rank = tmp_rank\n",
    "    \n",
    "    right_num = 0\n",
    "    # 按pr值的得分进行排序，并过滤掉其中的user顶点和root顶点已经产生行为的item，从而得到推荐结果\n",
    "    for zuhe in sorted(rank.items(), key = operator.itemgetter(1), reverse  = True):\n",
    "        point, pr_score = zuhe[0], zuhe[1]\n",
    "        # 如果顶点不是item顶点，需要过滤掉\n",
    "        if len(point.split(\"_\")) < 2:\n",
    "            continue\n",
    "        # 如果顶点是item顶点，但是和root顶点产生过行为，同样过滤掉\n",
    "        if point in graph[root]:\n",
    "            continue\n",
    "            \n",
    "        recom_result[point] = pr_score\n",
    "        right_num  += 1\n",
    "        if right_num > recom_num:\n",
    "            break\n",
    "    return recom_result"
   ]
  },
  {
   "cell_type": "code",
   "execution_count": 11,
   "metadata": {},
   "outputs": [],
   "source": [
    "def get_one_user_recom():\n",
    "    '''\n",
    "    用户的推荐列表\n",
    "    :return:\n",
    "    '''\n",
    "#     user = \"A\"\n",
    "    user = \"1\"\n",
    "    alpha = 0.6\n",
    "    iter_num  = 100\n",
    "    \n",
    "    \n",
    "    # {'item_c': 0.0726, 'item_e': 0.0363} 测试，明显 c > e\n",
    "#     graph = read.get_graph_from_data(log_file)\n",
    "\n",
    "    graph = read.get_graph_from_data(rating_file)\n",
    "    recom_result = personal_rank(graph, user, alpha, iter_num)\n",
    "    \n",
    "    return recom_result"
   ]
  },
  {
   "cell_type": "code",
   "execution_count": 12,
   "metadata": {},
   "outputs": [
    {
     "name": "stdout",
     "output_type": "stream",
     "text": [
      "{'item_318': 0.1281, 'item_296': 0.12249999999999991, 'item_589': 0.0881, 'item_858': 0.08149999999999996, 'item_2762': 0.06760000000000002, 'item_4993': 0.06500000000000002, 'item_150': 0.06460000000000002, 'item_32': 0.0631, 'item_588': 0.06010000000000002, 'item_364': 0.05910000000000001, 'item_7153': 0.05860000000000003}\n"
     ]
    }
   ],
   "source": [
    "recom_result_base = get_one_user_recom()\n",
    "print(recom_result_base)"
   ]
  },
  {
   "cell_type": "code",
   "execution_count": null,
   "metadata": {},
   "outputs": [],
   "source": []
  },
  {
   "cell_type": "code",
   "execution_count": null,
   "metadata": {},
   "outputs": [],
   "source": []
  },
  {
   "cell_type": "code",
   "execution_count": 13,
   "metadata": {},
   "outputs": [],
   "source": [
    "# 矩阵算法版本\n",
    "def personal_rank_maat(graph, root, alpha, recom_num = 10):\n",
    "    '''\n",
    "    :param graph:\n",
    "        用户与item的二分图\n",
    "    :param root:\n",
    "        固定的顶点(为那个用户推荐)\n",
    "    :param alpha:\n",
    "        随机游走的概率\n",
    "    :param recom_num:\n",
    "        推荐的topn\n",
    "    :return:\n",
    "        dict\n",
    "            key: item_id\n",
    "            value: pr score\n",
    "    '''\n",
    "    # 得到M矩阵，所有顶点的集合以及每个顶点对应的行号\n",
    "    m, vertex, address_dict = mat_util.graph_to_m(graph)\n",
    "    # 需要推荐的用户顶点在顶点集合当中\n",
    "    if root not in address_dict:\n",
    "        return {}\n",
    "\n",
    "    score_dict = {}\n",
    "    recom_dict = {}\n",
    "\n",
    "    # 单位阵E - alpha * m阵的转置.T\n",
    "    mat_all = mat_util.mat_all_point(m, vertex, alpha)\n",
    "    # 求mat_all => A矩阵的逆，及得到了所有顶点的推荐结果(线性代数)[求矩阵的逆即Ax = b]\n",
    "    # 先得到root顶点的index即所对应的行号\n",
    "    index = address_dict[root]\n",
    "    # A * r = r0 (实际上就是一个n行一列的矩阵，只是将第index行初始化为 1，即root顶点对应所有顶点的pr值)\n",
    "    initial_list = [[0] for row in range(len(vertex))]\n",
    "    initial_list[index] = [1]\n",
    "    r_zero = np.array(initial_list)\n",
    "    # 解线性方程\n",
    "    # 结果是一个元组\n",
    "    # 第一维度是一个数组，标志着其余所有顶点对该root顶点的pr值\n",
    "    res = gmres(mat_all, r_zero, tol = 1e-08)[0]\n",
    "    for index in range(len(res)):\n",
    "        # 此处的index 就是对应所有顶点的 index\n",
    "        point = vertex[index]\n",
    "        # 判断顶点是否是item顶点\n",
    "        if len(point.strip().split(\"_\")) < 2:\n",
    "            continue\n",
    "        # 排除已经产生行为过的顶点\n",
    "        if point in graph[root]:\n",
    "            continue\n",
    "        # 推荐结果\n",
    "        score_dict[point] = round(res[index], 3)\n",
    "    # 按score排序去topn个\n",
    "    for zuhe in sorted(score_dict.items(), key = operator.itemgetter(1), reverse = True)[:recom_num]:\n",
    "        point, score = zuhe[0], zuhe[1]\n",
    "        recom_dict[point] = score\n",
    "    return recom_dict"
   ]
  },
  {
   "cell_type": "code",
   "execution_count": 14,
   "metadata": {},
   "outputs": [],
   "source": [
    "# 测试矩阵算法的推荐结果\n",
    "def get_one_user_by_mat():\n",
    "    # user = \"A\"\n",
    "    user = \"1\"\n",
    "    alpha = 0.6\n",
    "    # graph = read.get_graph_from_data(log_file)\n",
    "    # recom_result = personal_rank_maat(graph, user, alpha)\n",
    "\n",
    "    graph = read.get_graph_from_data(rating_file)\n",
    "    recom_result = personal_rank_maat(graph, user, alpha, 100)\n",
    "    return recom_result"
   ]
  },
  {
   "cell_type": "code",
   "execution_count": 15,
   "metadata": {},
   "outputs": [
    {
     "name": "stdout",
     "output_type": "stream",
     "text": [
      "[[1 0 0 ... 0 0 0]\n",
      " [0 1 0 ... 0 0 0]\n",
      " [0 0 1 ... 0 0 0]\n",
      " ...\n",
      " [0 0 0 ... 1 0 0]\n",
      " [0 0 0 ... 0 1 0]\n",
      " [0 0 0 ... 0 0 1]]\n"
     ]
    },
    {
     "data": {
      "text/plain": [
       "{'item_1036': 0.001,\n",
       " 'item_1046': 0.0,\n",
       " 'item_106': 0.0,\n",
       " 'item_106782': 0.0,\n",
       " 'item_1077': 0.0,\n",
       " 'item_1084': 0.0,\n",
       " 'item_1086': 0.0,\n",
       " 'item_1103': 0.0,\n",
       " 'item_112552': 0.0,\n",
       " 'item_1179': 0.0,\n",
       " 'item_1193': 0.001,\n",
       " 'item_1200': 0.001,\n",
       " 'item_1221': 0.001,\n",
       " 'item_122882': 0.0,\n",
       " 'item_125': 0.0,\n",
       " 'item_1258': 0.001,\n",
       " 'item_131724': 0.0,\n",
       " 'item_1387': 0.001,\n",
       " 'item_150': 0.001,\n",
       " 'item_1580': 0.001,\n",
       " 'item_162': 0.0,\n",
       " 'item_1704': 0.001,\n",
       " 'item_176': 0.0,\n",
       " 'item_1968': 0.001,\n",
       " 'item_215': 0.0,\n",
       " 'item_2288': 0.0,\n",
       " 'item_232': 0.0,\n",
       " 'item_26409': 0.0,\n",
       " 'item_265': 0.0,\n",
       " 'item_2762': 0.001,\n",
       " 'item_2851': 0.0,\n",
       " 'item_293': 0.001,\n",
       " 'item_296': 0.002,\n",
       " 'item_3024': 0.0,\n",
       " 'item_318': 0.002,\n",
       " 'item_319': 0.0,\n",
       " 'item_32': 0.001,\n",
       " 'item_34': 0.001,\n",
       " 'item_342': 0.0,\n",
       " 'item_345': 0.0,\n",
       " 'item_348': 0.0,\n",
       " 'item_364': 0.001,\n",
       " 'item_368': 0.0,\n",
       " 'item_377': 0.001,\n",
       " 'item_380': 0.001,\n",
       " 'item_4226': 0.001,\n",
       " 'item_4306': 0.001,\n",
       " 'item_4518': 0.0,\n",
       " 'item_46970': 0.0,\n",
       " 'item_475': 0.0,\n",
       " 'item_48516': 0.0,\n",
       " 'item_492': 0.0,\n",
       " 'item_4973': 0.001,\n",
       " 'item_4993': 0.001,\n",
       " 'item_5181': 0.0,\n",
       " 'item_538': 0.0,\n",
       " 'item_541': 0.001,\n",
       " 'item_5746': 0.0,\n",
       " 'item_5764': 0.0,\n",
       " 'item_58559': 0.001,\n",
       " 'item_588': 0.001,\n",
       " 'item_589': 0.001,\n",
       " 'item_5919': 0.0,\n",
       " 'item_595': 0.001,\n",
       " 'item_5952': 0.001,\n",
       " 'item_60756': 0.0,\n",
       " 'item_6377': 0.001,\n",
       " 'item_648': 0.001,\n",
       " 'item_68157': 0.0,\n",
       " 'item_6835': 0.0,\n",
       " 'item_6874': 0.0,\n",
       " 'item_708': 0.0,\n",
       " 'item_70946': 0.0,\n",
       " 'item_7153': 0.001,\n",
       " 'item_7361': 0.001,\n",
       " 'item_74458': 0.0,\n",
       " 'item_750': 0.001,\n",
       " 'item_780': 0.001,\n",
       " 'item_7899': 0.0,\n",
       " 'item_79132': 0.0,\n",
       " 'item_7991': 0.0,\n",
       " 'item_800': 0.0,\n",
       " 'item_80489': 0.0,\n",
       " 'item_80906': 0.0,\n",
       " 'item_849': 0.0,\n",
       " 'item_858': 0.001,\n",
       " 'item_86345': 0.0,\n",
       " 'item_892': 0.0,\n",
       " 'item_89774': 0.0,\n",
       " 'item_898': 0.0,\n",
       " 'item_899': 0.0,\n",
       " 'item_902': 0.0,\n",
       " 'item_904': 0.0,\n",
       " 'item_908': 0.0,\n",
       " 'item_910': 0.0,\n",
       " 'item_912': 0.001,\n",
       " 'item_914': 0.0,\n",
       " 'item_920': 0.0,\n",
       " 'item_924': 0.001,\n",
       " 'item_930': 0.0}"
      ]
     },
     "execution_count": 15,
     "metadata": {},
     "output_type": "execute_result"
    }
   ],
   "source": [
    "recom_result_mat = get_one_user_by_mat()\n",
    "recom_result_mat"
   ]
  },
  {
   "cell_type": "code",
   "execution_count": null,
   "metadata": {},
   "outputs": [],
   "source": []
  },
  {
   "cell_type": "code",
   "execution_count": 16,
   "metadata": {},
   "outputs": [
    {
     "name": "stdout",
     "output_type": "stream",
     "text": [
      "11\n"
     ]
    }
   ],
   "source": [
    "# 看一下基础版本和矩阵版本推荐中有多少是相同的\n",
    "num = 0\n",
    "for ele in recom_result_base:\n",
    "    if ele in recom_result_mat:\n",
    "        num += 1\n",
    "# 42\n",
    "print(num)"
   ]
  },
  {
   "cell_type": "code",
   "execution_count": null,
   "metadata": {},
   "outputs": [],
   "source": []
  }
 ],
 "metadata": {
  "kernelspec": {
   "display_name": "Python 3",
   "language": "python",
   "name": "python3"
  },
  "language_info": {
   "codemirror_mode": {
    "name": "ipython",
    "version": 3
   },
   "file_extension": ".py",
   "mimetype": "text/x-python",
   "name": "python",
   "nbconvert_exporter": "python",
   "pygments_lexer": "ipython3",
   "version": "3.6.1"
  }
 },
 "nbformat": 4,
 "nbformat_minor": 2
}
