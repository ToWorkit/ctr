{
 "cells": [
  {
   "cell_type": "code",
   "execution_count": 1,
   "metadata": {},
   "outputs": [
    {
     "name": "stdout",
     "output_type": "stream",
     "text": [
      "importing Jupyter notebook from process.ipynb\n"
     ]
    }
   ],
   "source": [
    "from __future__ import division\n",
    "# 避免整数相除为0(上面这个前面不能有注释)\n",
    "import operator\n",
    "import numpy as np\n",
    "\n",
    "# 从util引入获取训练集的函数\n",
    "import sys\n",
    "sys.path.append(r\"F:\\\\FictionRecommend\\\\\")\n",
    "import Ipynb_importer\n",
    "import process as read\n",
    "import test as mat_util\n",
    "import numpy as np\n",
    "# 求矩阵的逆\n",
    "from scipy.sparse.linalg import gmres"
   ]
  },
  {
   "cell_type": "code",
   "execution_count": 2,
   "metadata": {},
   "outputs": [],
   "source": [
    "# 测试文件\n",
    "log_file = \"F:/badou/tmp/data/recommender/personalRank/log.txt\"\n",
    "# 评分文件\n",
    "rating_file = \"F:/badou/tmp/data/recommender/personalRank/ratings.csv\"\n",
    "# 用来看推荐效果\n",
    "movies_file = \"F:\\\\badou\\\\tmp\\\\data\\\\recommender\\\\data\\\\ml-latest-small\\\\movies.csv\""
   ]
  },
  {
   "cell_type": "code",
   "execution_count": 3,
   "metadata": {},
   "outputs": [],
   "source": [
    "def personal_rank(graph, root, alpha, iter_num, recom_num = 10):\n",
    "    \"\"\"\n",
    "    基础算法版本\n",
    "    :param graph:\n",
    "        根据用户的行为得到的用户和item的图结构\n",
    "    :param root:\n",
    "        将要给那个user推荐 root顶点\n",
    "    :param alpha:\n",
    "        以 alpha 的概率选择向下游走，以 1 - alpha 的概率选择回到起点\n",
    "    :param iter_num:\n",
    "        迭代次数\n",
    "    :param recom_num:\n",
    "        推荐个数(默认10个)\n",
    "    :return:\n",
    "        dict 长度为推荐个数 recom_num\n",
    "            key -> item_id\n",
    "            value -> pr值(personal rank)\n",
    "    \"\"\"\n",
    "    # 存储所有的顶点对于root顶点的personal_rank值\n",
    "    rank = {}\n",
    "    # 初始值，除root顶点以外其余顶点personal_rank值都为0\n",
    "    rank = {point: 0 for point in graph}\n",
    "    # root顶点初始化为1\n",
    "    rank[root] = 1\n",
    "    # 输出的推荐dict\n",
    "    recom_result = {}\n",
    "    \n",
    "    for iter_index in range(iter_num):\n",
    "        # 用来存储当前迭代轮次下其余顶点对root顶点的pr值\n",
    "        tmp_rank = {point: 0 for point in graph}\n",
    "        \n",
    "        # 上部分公式\n",
    "        # 如果该顶点不是root顶点，则它的pr值 = 所有连接到该顶点的顶点将自己的pr值以 1/n 的概率贡献到该顶点上，\n",
    "        # 那么n就是连接到该顶点的这个顶点的出度\n",
    "        for out_point, out_dict in graph.items():\n",
    "            for inner_point, value in graph[out_point].items():\n",
    "                tmp_rank[inner_point] += round(alpha * rank[out_point] / len(out_dict), 4)\n",
    "                # 下半部分公式：如果该顶点同时是root顶点的话，不仅有公式上半部分构成还要加上 1 - alpha\n",
    "                if inner_point == root:\n",
    "                    tmp_rank[inner_point] += round(1 - alpha, 4)\n",
    "        \n",
    "        # 完全相同时可以停止迭代(收敛)\n",
    "        if tmp_rank == rank:\n",
    "            break\n",
    "        \n",
    "        # 继续往下迭代\n",
    "        rank = tmp_rank\n",
    "    \n",
    "    right_num = 0\n",
    "    # 按pr值的得分进行排序，并过滤掉其中的user顶点和root顶点已经产生行为的item，从而得到推荐结果\n",
    "    for zuhe in sorted(rank.items(), key = operator.itemgetter(1), reverse  = True):\n",
    "        point, pr_score = zuhe[0], zuhe[1]\n",
    "        # 如果顶点不是item顶点，需要过滤掉\n",
    "        if len(point.split(\"_\")) < 2:\n",
    "            continue\n",
    "        # 如果顶点是item顶点，但是和root顶点产生过行为，同样过滤掉\n",
    "        if point in graph[root]:\n",
    "            continue\n",
    "            \n",
    "        recom_result[point] = pr_score\n",
    "        right_num  += 1\n",
    "        if right_num > recom_num:\n",
    "            break\n",
    "    return recom_result"
   ]
  },
  {
   "cell_type": "code",
   "execution_count": 4,
   "metadata": {},
   "outputs": [],
   "source": [
    "def get_one_user_recom():\n",
    "    '''\n",
    "    用户的推荐列表\n",
    "    :return:\n",
    "    '''\n",
    "    user = \"A\"\n",
    "    # user = \"1\"\n",
    "    alpha = 0.6\n",
    "    iter_num  = 100\n",
    "    \n",
    "    \n",
    "    # {'item_c': 0.0726, 'item_e': 0.0363} 测试，明显 c > e\n",
    "    graph = read.get_graph_from_data(log_file)\n",
    "    recom_result = personal_rank(graph, user, alpha, iter_num)\n",
    "    \n",
    "    return recom_result"
   ]
  },
  {
   "cell_type": "code",
   "execution_count": 5,
   "metadata": {},
   "outputs": [
    {
     "name": "stdout",
     "output_type": "stream",
     "text": [
      "{'item_c': 0.074, 'item_e': 0.037}\n"
     ]
    }
   ],
   "source": [
    "recom_result_base = get_one_user_recom()\n",
    "print(recom_result_base)"
   ]
  },
  {
   "cell_type": "code",
   "execution_count": null,
   "metadata": {},
   "outputs": [],
   "source": []
  }
 ],
 "metadata": {
  "kernelspec": {
   "display_name": "Python 3",
   "language": "python",
   "name": "python3"
  },
  "language_info": {
   "codemirror_mode": {
    "name": "ipython",
    "version": 3
   },
   "file_extension": ".py",
   "mimetype": "text/x-python",
   "name": "python",
   "nbconvert_exporter": "python",
   "pygments_lexer": "ipython3",
   "version": "3.6.1"
  }
 },
 "nbformat": 4,
 "nbformat_minor": 2
}
