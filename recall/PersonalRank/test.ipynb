{
 "cells": [
  {
   "cell_type": "code",
   "execution_count": 4,
   "metadata": {},
   "outputs": [
    {
     "name": "stdout",
     "output_type": "stream",
     "text": [
      "importing Jupyter notebook from process.ipynb\n"
     ]
    }
   ],
   "source": [
    "from scipy.sparse import coo_matrix\n",
    "import numpy as np\n",
    "import sys\n",
    "# 引入process\n",
    "sys.path.append(r\"F:\\\\FictionRecommend\\\\\")\n",
    "import Ipynb_importer\n",
    "import process"
   ]
  },
  {
   "cell_type": "code",
   "execution_count": 5,
   "metadata": {},
   "outputs": [],
   "source": [
    "# 测试文件\n",
    "log_file = \"F:/badou/tmp/data/recommender/personalRank/log.txt\""
   ]
  },
  {
   "cell_type": "code",
   "execution_count": 14,
   "metadata": {},
   "outputs": [],
   "source": [
    "def graph_to_m(graph):\n",
    "    '''\n",
    "    :param graph:\n",
    "        从用户评分文件中得到的 二分图\n",
    "    :return:\n",
    "        一个稀疏矩阵 sparse mat M 矩阵\n",
    "        list 所有的顶点\n",
    "        dict 顶点的位置\n",
    "    '''\n",
    "    # graph.keys() 返回值是dict_keys类型，需要转为list\n",
    "    vertex = list(graph.keys())\n",
    "    \n",
    "    # 记录每一个顶点位置的数据结构\n",
    "    address_dict = {}\n",
    "    # 指定行和列\n",
    "    total_len = len(vertex)\n",
    "    \n",
    "    for index in range(len(vertex)):\n",
    "        # 构造M矩阵，构建顶点，通过矩阵可以得到每一行对应的是哪一个顶点\n",
    "        address_dict[vertex[index]] = index\n",
    "    \n",
    "    # 存储行索引，列索引以及对应的数值\n",
    "    row = []\n",
    "    col = []\n",
    "    data = []\n",
    "    for element_i in graph:\n",
    "        # M矩阵第i行z列的数值，是顶点i到顶点z有没有路径连通，如果有数值那么就是顶点i出度的倒数\n",
    "        weight = round(1 / len(graph[element_i]), 3)\n",
    "        # 行索引\n",
    "        row_index = address_dict[element_i]\n",
    "        # 列索引\n",
    "        for element_j in graph[element_i]:\n",
    "            col_index = address_dict[element_j]\n",
    "            row.append(row_index)\n",
    "            col.append(col_index)\n",
    "            data.append(weight)\n",
    "    \n",
    "    # 初始化矩阵\n",
    "    row = np.array(row)\n",
    "    col = np.array(col)\n",
    "    data = np.array(data)\n",
    "    \n",
    "    # 同时指定行和列\n",
    "    m = coo_matrix((data, (row, col)), shape=(total_len, total_len))\n",
    "    \n",
    "    # 矩阵M，所有的顶点，顶点的位置    \n",
    "    return m, vertex, address_dict"
   ]
  },
  {
   "cell_type": "code",
   "execution_count": 7,
   "metadata": {},
   "outputs": [],
   "source": [
    "graph = process.get_graph_from_data(log_file)"
   ]
  },
  {
   "cell_type": "code",
   "execution_count": 12,
   "metadata": {},
   "outputs": [
    {
     "data": {
      "text/plain": [
       "{'A': {'item_a': 1, 'item_b': 1, 'item_d': 1},\n",
       " 'B': {'item_a': 1, 'item_c': 1},\n",
       " 'C': {'item_b': 1, 'item_e': 1},\n",
       " 'D': {'item_c': 1, 'item_d': 1},\n",
       " 'item_a': {'A': 1, 'B': 1},\n",
       " 'item_b': {'A': 1, 'C': 1},\n",
       " 'item_c': {'B': 1, 'D': 1},\n",
       " 'item_d': {'A': 1, 'D': 1},\n",
       " 'item_e': {'C': 1}}"
      ]
     },
     "execution_count": 12,
     "metadata": {},
     "output_type": "execute_result"
    }
   ],
   "source": [
    "graph"
   ]
  },
  {
   "cell_type": "code",
   "execution_count": 15,
   "metadata": {},
   "outputs": [],
   "source": [
    "m, vertex, address_dict = graph_to_m(graph)"
   ]
  },
  {
   "cell_type": "code",
   "execution_count": 17,
   "metadata": {},
   "outputs": [
    {
     "data": {
      "text/plain": [
       "matrix([[0.   , 0.333, 0.333, 0.333, 0.   , 0.   , 0.   , 0.   , 0.   ],\n",
       "        [0.5  , 0.   , 0.   , 0.   , 0.5  , 0.   , 0.   , 0.   , 0.   ],\n",
       "        [0.5  , 0.   , 0.   , 0.   , 0.   , 0.   , 0.5  , 0.   , 0.   ],\n",
       "        [0.5  , 0.   , 0.   , 0.   , 0.   , 0.   , 0.   , 0.   , 0.5  ],\n",
       "        [0.   , 0.5  , 0.   , 0.   , 0.   , 0.5  , 0.   , 0.   , 0.   ],\n",
       "        [0.   , 0.   , 0.   , 0.   , 0.5  , 0.   , 0.   , 0.   , 0.5  ],\n",
       "        [0.   , 0.   , 0.5  , 0.   , 0.   , 0.   , 0.   , 0.5  , 0.   ],\n",
       "        [0.   , 0.   , 0.   , 0.   , 0.   , 0.   , 1.   , 0.   , 0.   ],\n",
       "        [0.   , 0.   , 0.   , 0.5  , 0.   , 0.5  , 0.   , 0.   , 0.   ]])"
      ]
     },
     "execution_count": 17,
     "metadata": {},
     "output_type": "execute_result"
    }
   ],
   "source": [
    "# A 的出度是 3，所以A对应的这一行中的值都应该是1/3\n",
    "m.todense()"
   ]
  },
  {
   "cell_type": "code",
   "execution_count": 18,
   "metadata": {},
   "outputs": [
    {
     "data": {
      "text/plain": [
       "['A', 'item_a', 'item_b', 'item_d', 'B', 'item_c', 'C', 'item_e', 'D']"
      ]
     },
     "execution_count": 18,
     "metadata": {},
     "output_type": "execute_result"
    }
   ],
   "source": [
    "vertex"
   ]
  },
  {
   "cell_type": "code",
   "execution_count": 19,
   "metadata": {},
   "outputs": [
    {
     "data": {
      "text/plain": [
       "{'A': 0,\n",
       " 'B': 4,\n",
       " 'C': 6,\n",
       " 'D': 8,\n",
       " 'item_a': 1,\n",
       " 'item_b': 2,\n",
       " 'item_c': 5,\n",
       " 'item_d': 3,\n",
       " 'item_e': 7}"
      ]
     },
     "execution_count": 19,
     "metadata": {},
     "output_type": "execute_result"
    }
   ],
   "source": [
    "address_dict"
   ]
  },
  {
   "cell_type": "code",
   "execution_count": 20,
   "metadata": {},
   "outputs": [],
   "source": [
    "def mat_all_point(m_mat, vertex, alpha):\n",
    "    \"\"\"\n",
    "        求单位矩阵E - alpha * m矩阵的转置\n",
    "        :param m_mat:\n",
    "            m矩阵\n",
    "        :param vertex:\n",
    "            所有的顶点\n",
    "        :param alpha:\n",
    "            随机游走的概率\n",
    "        :return:\n",
    "            稀疏矩阵 sparse mat\n",
    "    \"\"\"\n",
    "    # 初始化单位阵(只在对角线上有值，且值为1)(使用coo的方式)[coo_matrix]\n",
    "    total_len = len(vertex)\n",
    "    row = []\n",
    "    col = []\n",
    "    data = []\n",
    "    \n",
    "    for index in range(total_len):\n",
    "        row.append(index)\n",
    "        col.append(index)\n",
    "        # 值为1\n",
    "        data.append(1)\n",
    "    \n",
    "    row = np.array(row)\n",
    "    col = np.array(col)\n",
    "    data = np.array(data)\n",
    "    eye_t = coo_matrix((data, (row, col)), shape=(total_len, total_len))\n",
    "    \n",
    "    print(eye_t.todense())\n",
    "    \n",
    "    # # tocsr, 转为csr格式，可以使运算更快\n",
    "    return eye_t.tocsr() - alpha * m_mat.tocsr().transpose()"
   ]
  },
  {
   "cell_type": "code",
   "execution_count": 22,
   "metadata": {},
   "outputs": [
    {
     "name": "stdout",
     "output_type": "stream",
     "text": [
      "[[1 0 0 0 0 0 0 0 0]\n",
      " [0 1 0 0 0 0 0 0 0]\n",
      " [0 0 1 0 0 0 0 0 0]\n",
      " [0 0 0 1 0 0 0 0 0]\n",
      " [0 0 0 0 1 0 0 0 0]\n",
      " [0 0 0 0 0 1 0 0 0]\n",
      " [0 0 0 0 0 0 1 0 0]\n",
      " [0 0 0 0 0 0 0 1 0]\n",
      " [0 0 0 0 0 0 0 0 1]]\n"
     ]
    },
    {
     "data": {
      "text/plain": [
       "matrix([[ 1.    , -0.4   , -0.4   , -0.4   ,  0.    ,  0.    ,  0.    ,\n",
       "          0.    ,  0.    ],\n",
       "        [-0.2664,  1.    ,  0.    ,  0.    , -0.4   ,  0.    ,  0.    ,\n",
       "          0.    ,  0.    ],\n",
       "        [-0.2664,  0.    ,  1.    ,  0.    ,  0.    ,  0.    , -0.4   ,\n",
       "          0.    ,  0.    ],\n",
       "        [-0.2664,  0.    ,  0.    ,  1.    ,  0.    ,  0.    ,  0.    ,\n",
       "          0.    , -0.4   ],\n",
       "        [ 0.    , -0.4   ,  0.    ,  0.    ,  1.    , -0.4   ,  0.    ,\n",
       "          0.    ,  0.    ],\n",
       "        [ 0.    ,  0.    ,  0.    ,  0.    , -0.4   ,  1.    ,  0.    ,\n",
       "          0.    , -0.4   ],\n",
       "        [ 0.    ,  0.    , -0.4   ,  0.    ,  0.    ,  0.    ,  1.    ,\n",
       "         -0.8   ,  0.    ],\n",
       "        [ 0.    ,  0.    ,  0.    ,  0.    ,  0.    ,  0.    , -0.4   ,\n",
       "          1.    ,  0.    ],\n",
       "        [ 0.    ,  0.    ,  0.    , -0.4   ,  0.    , -0.4   ,  0.    ,\n",
       "          0.    ,  1.    ]])"
      ]
     },
     "execution_count": 22,
     "metadata": {},
     "output_type": "execute_result"
    }
   ],
   "source": [
    "mat_all_point(m, vertex, 0.8).todense()"
   ]
  },
  {
   "cell_type": "code",
   "execution_count": null,
   "metadata": {},
   "outputs": [],
   "source": []
  }
 ],
 "metadata": {
  "kernelspec": {
   "display_name": "Python 3",
   "language": "python",
   "name": "python3"
  },
  "language_info": {
   "codemirror_mode": {
    "name": "ipython",
    "version": 3
   },
   "file_extension": ".py",
   "mimetype": "text/x-python",
   "name": "python",
   "nbconvert_exporter": "python",
   "pygments_lexer": "ipython3",
   "version": "3.6.1"
  }
 },
 "nbformat": 4,
 "nbformat_minor": 2
}
