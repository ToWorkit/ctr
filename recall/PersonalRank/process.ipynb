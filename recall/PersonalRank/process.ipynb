{
 "cells": [
  {
   "cell_type": "code",
   "execution_count": 1,
   "metadata": {},
   "outputs": [],
   "source": [
    "import os"
   ]
  },
  {
   "cell_type": "code",
   "execution_count": 2,
   "metadata": {},
   "outputs": [],
   "source": [
    "# 测试文件\n",
    "log_file = \"F:/badou/tmp/data/recommender/personalRank/log.txt\"\n",
    "# 评分文件\n",
    "rating_file = \"F:/badou/tmp/data/recommender/personalRank/ratings.csv\""
   ]
  },
  {
   "cell_type": "code",
   "execution_count": 3,
   "metadata": {},
   "outputs": [],
   "source": [
    "def get_graph_from_data(input_file):\n",
    "    '''\n",
    "    二分图\n",
    "    :param input_file:\n",
    "        用户对item的打分文件 rating\n",
    "    :return:\n",
    "        dict\n",
    "            {UserA: {itemb: 1, itemc: 1}, itemb: {UserA: 1}}\n",
    "            用户操作过的item\n",
    "            item被那些用户操作过\n",
    "    '''\n",
    "    if not os.path.exists(input_file):\n",
    "        return {}\n",
    "    \n",
    "    # 输出的数据结构\n",
    "    graph = {}\n",
    "    score_thr = 4.0\n",
    "    line_num = 0\n",
    "    \n",
    "    fp = open(input_file, \"r\", encoding = \"utf-8\")\n",
    "    \n",
    "    for line in fp:\n",
    "        if line_num == 0:\n",
    "            line_num += 1\n",
    "            continue\n",
    "        item = line.strip().split(\",\")\n",
    "        if len(item) < 3:\n",
    "            continue\n",
    "        # 因为user_id和item_id都是key，所以加个前缀用以区分\n",
    "        user_id, item_id, rating = item[0], \"item_\" + item[1], item[2]\n",
    "        # 过滤掉评分低的\n",
    "        if float(rating) < score_thr:\n",
    "            continue\n",
    "        if user_id not in graph:\n",
    "            graph[user_id] = {}\n",
    "        graph[user_id][item_id] = 1\n",
    "        if item_id not in graph:\n",
    "            graph[item_id] = {}\n",
    "        graph[item_id][user_id] = 1\n",
    "    fp.close()\n",
    "    return graph"
   ]
  },
  {
   "cell_type": "code",
   "execution_count": 4,
   "metadata": {},
   "outputs": [],
   "source": [
    "graph = get_graph_from_data(rating_file)"
   ]
  },
  {
   "cell_type": "code",
   "execution_count": 7,
   "metadata": {},
   "outputs": [
    {
     "data": {
      "text/plain": [
       "{'item_1036': 1,\n",
       " 'item_1214': 1,\n",
       " 'item_134130': 1,\n",
       " 'item_142488': 1,\n",
       " 'item_150': 1,\n",
       " 'item_1552': 1,\n",
       " 'item_2571': 1,\n",
       " 'item_3578': 1,\n",
       " 'item_364': 1,\n",
       " 'item_44665': 1,\n",
       " 'item_47099': 1,\n",
       " 'item_51935': 1,\n",
       " 'item_5418': 1,\n",
       " 'item_58559': 1,\n",
       " 'item_59315': 1,\n",
       " 'item_62': 1,\n",
       " 'item_6378': 1,\n",
       " 'item_68954': 1,\n",
       " 'item_733': 1}"
      ]
     },
     "execution_count": 7,
     "metadata": {},
     "output_type": "execute_result"
    }
   ],
   "source": [
    "# user\n",
    "graph[\"196\"]"
   ]
  },
  {
   "cell_type": "code",
   "execution_count": 8,
   "metadata": {},
   "outputs": [
    {
     "data": {
      "text/plain": [
       "{'115': 1, '186': 1, '240': 1, '313': 1, '584': 1, '594': 1}"
      ]
     },
     "execution_count": 8,
     "metadata": {},
     "output_type": "execute_result"
    }
   ],
   "source": [
    "# item\n",
    "graph[\"item_196\"]"
   ]
  },
  {
   "cell_type": "code",
   "execution_count": 9,
   "metadata": {},
   "outputs": [],
   "source": [
    "# movies\n",
    "def get_item_info(input_file):\n",
    "    # 判断文件是否存在\n",
    "    if not os.path.exists(input_file):\n",
    "        return {}\n",
    "    item_info = {}\n",
    "    linenum = 0\n",
    "    fp = open(input_file, \"r\", encoding = \"utf-8\")\n",
    "    for line in fp:\n",
    "        # 跳过表头\n",
    "        if linenum == 0:\n",
    "            linenum += 1\n",
    "            continue\n",
    "        item = line.strip().split(\",\")\n",
    "        if len(item) < 3:\n",
    "            continue\n",
    "        elif len(item) == 3:\n",
    "            itemid, title, genre = item[0], item[1], item[2]\n",
    "        elif len(item) > 3:\n",
    "            itemid = item[0]\n",
    "            # 类别\n",
    "            genre = item[-1]\n",
    "            # 有些title中也有,\n",
    "            title = \",\".join(item[1:-1])\n",
    "        item_info[itemid] = [title, genre]\n",
    "    fp.close()\n",
    "    return item_info"
   ]
  },
  {
   "cell_type": "code",
   "execution_count": null,
   "metadata": {},
   "outputs": [],
   "source": []
  }
 ],
 "metadata": {
  "kernelspec": {
   "display_name": "Python 3",
   "language": "python",
   "name": "python3"
  },
  "language_info": {
   "codemirror_mode": {
    "name": "ipython",
    "version": 3
   },
   "file_extension": ".py",
   "mimetype": "text/x-python",
   "name": "python",
   "nbconvert_exporter": "python",
   "pygments_lexer": "ipython3",
   "version": "3.6.1"
  }
 },
 "nbformat": 4,
 "nbformat_minor": 2
}
