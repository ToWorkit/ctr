{
 "cells": [
  {
   "cell_type": "code",
   "execution_count": 1,
   "metadata": {},
   "outputs": [
    {
     "name": "stderr",
     "output_type": "stream",
     "text": [
      "c:\\users\\hedy\\appdata\\local\\programs\\python\\python36\\lib\\site-packages\\sklearn\\externals\\joblib\\__init__.py:15: DeprecationWarning: sklearn.externals.joblib is deprecated in 0.21 and will be removed in 0.23. Please import this functionality directly from joblib, which can be installed with: pip install joblib. If this warning is raised when loading pickled models, you may need to re-serialize those models with scikit-learn 0.21+.\n",
      "  warnings.warn(msg, category=DeprecationWarning)\n"
     ]
    }
   ],
   "source": [
    "'''\n",
    "在测试数据集上的表现\n",
    "'''\n",
    "import numpy as np\n",
    "import xgboost as xgb\n",
    "from scipy.sparse import coo_matrix, csc_matrix\n",
    "import math\n",
    "import sys\n",
    "from sklearn.externals import joblib"
   ]
  },
  {
   "cell_type": "code",
   "execution_count": 2,
   "metadata": {},
   "outputs": [],
   "source": [
    "output_test_file = \"F:/db/tmp/data/gbdt_test/output_test.txt\"\n",
    "output_feature_num_file = \"F:/db/tmp/data/gbdt_test/feature_num.txt\"\n",
    "output_model_file = \"F:/db/tmp/data/gbdt_test/gbdt.model\"\n",
    "# 混合模型\n",
    "mix_tree_model_file = \"F:/db/tmp/data/gbdt_test/gbdt_tree.model\"\n",
    "mix_lr_coef_model_file = \"F:/db/tmp/data/gbdt_test/gbdt_lr_coef.model\"\n",
    "mix_lr_model_file = \"F:/db/tmp/data/gbdt_test/gbdt_lr.model\""
   ]
  },
  {
   "cell_type": "code",
   "execution_count": 3,
   "metadata": {},
   "outputs": [],
   "source": [
    "# 读入测试文件\n",
    "def get_test_data(test_file, feature_num_file):\n",
    "    '''\n",
    "    :param test_file:\n",
    "    :return:\n",
    "        np array\n",
    "            测试的特征\n",
    "            测试的label\n",
    "    '''\n",
    "    # 有103个特征参数\n",
    "    total_feature = 103\n",
    "\n",
    "    # label\n",
    "    test_label = np.genfromtxt(test_file, dtype = np.float32, delimiter = \",\", usecols = -1)\n",
    "\n",
    "    feature_list = range(total_feature)\n",
    "    test_feature = np.genfromtxt(test_file, dtype = np.float32, delimiter = \",\", usecols = feature_list)\n",
    "    # print(test_feature.shape)\n",
    "    # sys.exit()\n",
    "    return test_feature, test_label"
   ]
  },
  {
   "cell_type": "code",
   "execution_count": 4,
   "metadata": {},
   "outputs": [],
   "source": [
    "# 树模型打分函数\n",
    "def predict_by_tree(test_feature, tree_model):\n",
    "    '''\n",
    "    :param test_feature:\n",
    "        测试特征\n",
    "    :param tree_model:\n",
    "        模型\n",
    "    '''\n",
    "    # 调用api中的预测函数\n",
    "    # 转换数据结构\n",
    "    predict_list = tree_model.predict(xgb.DMatrix(test_feature))\n",
    "    return predict_list"
   ]
  },
  {
   "cell_type": "code",
   "execution_count": 5,
   "metadata": {},
   "outputs": [],
   "source": [
    "# auc\n",
    "def get_auc(predict_list, test_label):\n",
    "    '''\n",
    "    :param predict_list:\n",
    "        模型预测label\n",
    "    :param test_label:\n",
    "        测试label\n",
    "    # pos 正样本\n",
    "    auc = (sum(pos_index) - pos_num(pos_num + 1) / 2) / pos_num * neg_num\n",
    "    '''\n",
    "    total_list = []\n",
    "    for index in range(len(predict_list)):\n",
    "        predict_score = predict_list[index]\n",
    "        label = test_label[index]\n",
    "        total_list.append((label, predict_score))\n",
    "    # 排序\n",
    "    sorted_total_list = sorted(total_list, key = lambda ele: ele[1])\n",
    "\n",
    "    # 负样本\n",
    "    neg_num = 0\n",
    "    # 正样本\n",
    "    pos_num = 0\n",
    "    count = 1\n",
    "    total_pos_index = 0\n",
    "    for zuhe in sorted_total_list:\n",
    "        label, predict_score = zuhe\n",
    "        if label == 0:\n",
    "            neg_num += 1\n",
    "        else:\n",
    "            pos_num += 1\n",
    "            # 所有正样本的index + 所处的位置\n",
    "            total_pos_index += count\n",
    "        count += 1\n",
    "    auc_score = (total_pos_index - pos_num * (pos_num + 1) / 2) / (pos_num * neg_num)\n",
    "    print(\"auc: %5f\" %(auc_score))"
   ]
  },
  {
   "cell_type": "code",
   "execution_count": 6,
   "metadata": {},
   "outputs": [],
   "source": [
    "# 准确率\n",
    "def get_accuary(predict_list, test_label):\n",
    "    # 临界值 大于 正样本，小于 负样本\n",
    "    score_thr = 0.8\n",
    "    # 预测对的\n",
    "    right_num = 0\n",
    "    predict_label_list = []\n",
    "    for index in range(len(predict_list)):\n",
    "        predict_score = predict_list[index]\n",
    "        if predict_score >= score_thr:\n",
    "            predict_label = 1\n",
    "        else:\n",
    "            predict_label = 0\n",
    "        predict_label_list.append(predict_label)\n",
    "        if predict_label == test_label[index]:\n",
    "            # 预测对的\n",
    "            right_num += 1\n",
    "    # 预测的，实际的\n",
    "    print(predict_label_list[:10], test_label[:10])\n",
    "    total_num = len(predict_list)\n",
    "    accuary_score = right_num / total_num\n",
    "    print(\"accuary: %.5f\" %(accuary_score))"
   ]
  },
  {
   "cell_type": "code",
   "execution_count": 7,
   "metadata": {},
   "outputs": [],
   "source": [
    "# 特征转换 提取特征\n",
    "def get_gbdt_and_lr_feature(tree_leaf, tree_num, tree_depth):\n",
    "    num_leaf_max = np.max(tree_leaf)\n",
    "    total_feature_list = np.zeros([len(tree_leaf),len(tree_leaf[0]) * num_leaf_max], dtype=np.int64)\n",
    "    \n",
    "    for i in range(0, len(tree_leaf)):\n",
    "        temp = np.arange(len(tree_leaf[0])) * num_leaf_max - 1 + np.array(tree_leaf[i])\n",
    "        total_feature_list[i][temp] += 1\n",
    "\n",
    "    return total_feature_list"
   ]
  },
  {
   "cell_type": "code",
   "execution_count": 8,
   "metadata": {},
   "outputs": [],
   "source": [
    "# 实例化模型打分函数\n",
    "def predict_by_lr_gbdt(test_feature, mix_tree_model, mix_lr_coef, tree_info):\n",
    "    '''\n",
    "    :param test_feature:\n",
    "    :param mix_tree_model:\n",
    "    :param mix_lr_coef:\n",
    "    :param tree_info:\n",
    "    '''\n",
    "    # 得到每一个样本在gbdt预测中最终落在了哪个节点上\n",
    "    tree_leaf = mix_tree_model.predict(xgb.DMatrix(test_feature), pred_leaf = True)\n",
    "    (tree_num, tree_depth, step_size) = tree_info\n",
    "    # 特征转换\n",
    "    total_feature_list = get_gbdt_and_lr_feature(tree_leaf, tree_num, tree_depth)\n",
    "    '''实例化模型'''\n",
    "    result_list = []\n",
    "    # 预测每一个样本label为 1 的概率\n",
    "    prob_list = mix_lr_coef.predict_proba(total_feature_list)\n",
    "    # label为0的概率， label为1的概率\n",
    "    # [ 0.99811782  0.00188218]\n",
    "    print(prob_list[0])\n",
    "    \n",
    "    # 将每一个样本为 1 的概率输出\n",
    "    for index in range(len(prob_list)):\n",
    "        result_list.append(prob_list[index][1])\n",
    "    return result_list"
   ]
  },
  {
   "cell_type": "code",
   "execution_count": 9,
   "metadata": {},
   "outputs": [],
   "source": [
    "# 定义阶跃模型(sigmoid)\n",
    "def sigmoid(x):\n",
    "    '''\n",
    "    :param x:\n",
    "    :return:\n",
    "    '''\n",
    "    return 1 / (1 + math.exp(-x))"
   ]
  },
  {
   "cell_type": "code",
   "execution_count": 10,
   "metadata": {},
   "outputs": [],
   "source": [
    "def run_check_lr_gbdt_core(test_feature, test_label, mix_tree_model, mix_lr_coef, tree_info, score_func):\n",
    "    '''\n",
    "    :param test_feature:\n",
    "        测试数据集\n",
    "    :param test_label:\n",
    "        测试label\n",
    "    :param mix_tree_model:\n",
    "        混合树模型\n",
    "    :param mix_lr_coef:\n",
    "        混合lr模型\n",
    "    :param tree_info:\n",
    "        混合树模型参数\n",
    "    :param predict_by_lr_gbdt:\n",
    "        综合打分函数\n",
    "    '''\n",
    "    # 模型的打分列表\n",
    "    predict_list = score_func(test_feature, mix_tree_model, mix_lr_coef, tree_info)\n",
    "    get_auc(predict_list, test_label)\n",
    "    get_accuary(predict_list, test_label)"
   ]
  },
  {
   "cell_type": "code",
   "execution_count": 11,
   "metadata": {},
   "outputs": [],
   "source": [
    "# GBDT + LR 在测试集上的效果\n",
    "def run_check_lr_gbdt(test_file, tree_mix_model_file, lr_coef_mix_model_file, feature_num_file):\n",
    "    '''\n",
    "    :param test_file:\n",
    "        测试文件\n",
    "    :param tree_mix_model_file:\n",
    "        混合模型 tree模型\n",
    "    :param lr_coef_mix_model_file:\n",
    "        混合模型 lr模型\n",
    "    :param feature_num_file:\n",
    "        特征维度\n",
    "    :return:\n",
    "    '''\n",
    "    test_feature, test_label = get_test_data(test_file, feature_num_file)\n",
    "    mix_tree_model = xgb.Booster(model_file = tree_mix_model_file)\n",
    "    \n",
    "    # 加载模型实例\n",
    "    mix_lr_model = joblib.load(lr_coef_mix_model_file)\n",
    "    # 混合模型中树模型的参数\n",
    "    # num depth step\n",
    "    tree_info = (10, 4, 0.3)\n",
    "    run_check_lr_gbdt_core(test_feature, test_label, mix_tree_model, mix_lr_model, tree_info, predict_by_lr_gbdt)"
   ]
  },
  {
   "cell_type": "code",
   "execution_count": 12,
   "metadata": {},
   "outputs": [
    {
     "name": "stdout",
     "output_type": "stream",
     "text": [
      "[0.99712085 0.00287915]\n",
      "auc: 0.918920\n",
      "[0, 0, 0, 1, 0, 0, 0, 0, 1, 0] [0. 0. 1. 1. 0. 1. 0. 0. 1. 0.]\n",
      "accuary: 0.83918\n"
     ]
    }
   ],
   "source": [
    "run_check_lr_gbdt(output_test_file, mix_tree_model_file, mix_lr_model_file, output_feature_num_file)"
   ]
  }
 ],
 "metadata": {
  "kernelspec": {
   "display_name": "Python 3",
   "language": "python",
   "name": "python3"
  },
  "language_info": {
   "codemirror_mode": {
    "name": "ipython",
    "version": 3
   },
   "file_extension": ".py",
   "mimetype": "text/x-python",
   "name": "python",
   "nbconvert_exporter": "python",
   "pygments_lexer": "ipython3",
   "version": "3.6.1"
  }
 },
 "nbformat": 4,
 "nbformat_minor": 2
}
