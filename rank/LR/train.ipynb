{
 "cells": [
  {
   "cell_type": "code",
   "execution_count": 1,
   "metadata": {},
   "outputs": [
    {
     "name": "stderr",
     "output_type": "stream",
     "text": [
      "c:\\users\\hedy\\appdata\\local\\programs\\python\\python36\\lib\\site-packages\\sklearn\\externals\\joblib\\__init__.py:15: DeprecationWarning: sklearn.externals.joblib is deprecated in 0.21 and will be removed in 0.23. Please import this functionality directly from joblib, which can be installed with: pip install joblib. If this warning is raised when loading pickled models, you may need to re-serialize those models with scikit-learn 0.21+.\n",
      "  warnings.warn(msg, category=DeprecationWarning)\n"
     ]
    }
   ],
   "source": [
    "import numpy as np\n",
    "# 使用含有交叉验证的lr\n",
    "from sklearn.linear_model import LogisticRegressionCV as LRCV\n",
    "# 将模型整体实体化输出\n",
    "from sklearn.externals import joblib"
   ]
  },
  {
   "cell_type": "code",
   "execution_count": 2,
   "metadata": {},
   "outputs": [],
   "source": [
    "output_train_file = \"F:/db/tmp/data/lr_test/output_train.txt\"\n",
    "model_coef_file = \"F:/db/tmp/data/lr_test/lr_coef\"\n",
    "model_dump_file = \"F:/db/tmp/data/lr_test/lr_dump\""
   ]
  },
  {
   "cell_type": "code",
   "execution_count": 21,
   "metadata": {},
   "outputs": [],
   "source": [
    "def train_lr_mode(train_file, model_coef, model_file):\n",
    "    \"\"\"\n",
    "    :param train_file:\n",
    "        训练数据\n",
    "    :param model_coef:\n",
    "        模型参数\n",
    "    :param model_file:\n",
    "        模型实例化文件(保存模型)\n",
    "    :return:\n",
    "    \"\"\"\n",
    "    # 特征总维度\n",
    "    total_feture_num = 150\n",
    "    \n",
    "    # label 只需要使用最后一列\n",
    "    train_label = np.genfromtxt(train_file, dtype=np.int32, delimiter=\",\", usecols=-1)\n",
    "    \n",
    "    # 读入特征部分\n",
    "    # 除去label\n",
    "    feature_list = range(total_feture_num)\n",
    "    train_feature = np.genfromtxt(train_file, dtype = np.int32, delimiter = \",\", usecols = feature_list)\n",
    "\n",
    "    '''Accuracy'''\n",
    "    # 训练模型\n",
    "    # 参数 [正则化参数], tol 迭代停止条件, max_iter 最大迭代次数, cv 交叉验证(将训练数据分为5份，每次拿20%为测试，80%为训练，一共进行5次), \n",
    "    # sol 优化方法(使用拟牛顿法, 默认)[希望所有的样本都可以参与到训练当中]\n",
    "    lr_cf = LRCV(Cs=[1], penalty=\"l2\", tol=0.0001, max_iter=500, cv=5)\\\n",
    "        .fit(train_feature, train_label)\n",
    "    # return\n",
    "    # 5行3列的数组\n",
    "    scores = list(lr_cf.scores_.values())[0]\n",
    "    \n",
    "    # 每一个正则化参数对应的交叉验证的平均分值\n",
    "    print(\"diff: %s\" %(\",\".join([str(ele) for ele in scores.mean(axis = 0)])))\n",
    "    # 平均准确率\n",
    "    # scores.std() * 2 偏差的范围\n",
    "    print(\"Accuracy: %s (+-%0.2f)\" % (scores.mean(), scores.std() * 2))\n",
    "    \n",
    "    '''AUC'''\n",
    "    # 训练模型\n",
    "    # 参数 [正则化参数], tol 迭代停止条件, max_iter 最大迭代次数, cv 交叉验证(将训练数据分为5份，每次拿20%为测试，80%为训练，一共进行5次), \n",
    "    # sol 优化方法(使用拟牛顿法, 默认)[希望所有的样本都可以参与到训练当中]\n",
    "    lr_cf = LRCV(Cs = [1], penalty = \"l2\", tol = 0.0001, max_iter = 500, cv = 5, scoring = \"roc_auc\").fit(train_feature, train_label)\n",
    "    # 5行3列的数组\n",
    "    scores = list(lr_cf.scores_.values())[0]\n",
    "    # 每一个正则化参数对应的交叉验证的分值\n",
    "    print(\"diff: %s\" %(\",\".join([str(ele) for ele in scores.mean(axis = 0)])))\n",
    "    # 平均auc\n",
    "    '''\n",
    "    diff: 0.89907602844,0.898857761654,0.89868638722\n",
    "    AUC: 0.898873392438\n",
    "    由此可得第一个参数最优\n",
    "    Cs = [1, 10, 100] => Cs = [1]\n",
    "    '''\n",
    "    print(\"AUC: %s (+-%0.2f)\" % (scores.mean(), scores.std() * 2))\n",
    "    \n",
    "    \n",
    "    \"\"\"参数模型\"\"\"\n",
    "    # 将得到的参数输出\n",
    "    coef = lr_cf.coef_[0]\n",
    "    # print(coef)\n",
    "    fw = open(model_coef, \"w+\")\n",
    "    fw.write(\",\".join(str(ele) for ele in coef))\n",
    "    fw.close()\n",
    "\n",
    "    \"\"\"实例化模型\"\"\"\n",
    "    # 将模型整体实例化输出\n",
    "    joblib.dump(lr_cf, model_file)"
   ]
  },
  {
   "cell_type": "code",
   "execution_count": 22,
   "metadata": {},
   "outputs": [
    {
     "name": "stdout",
     "output_type": "stream",
     "text": [
      "diff: 0.8424179155024063\n",
      "Accuracy: 0.8424179155024063 (+-0.01)\n",
      "diff: 0.8990815542769827\n",
      "AUC: 0.8990815542769827 (+-0.01)\n"
     ]
    }
   ],
   "source": [
    "train_lr_mode(output_train_file, model_coef_file, model_dump_file)"
   ]
  },
  {
   "cell_type": "code",
   "execution_count": null,
   "metadata": {},
   "outputs": [],
   "source": []
  }
 ],
 "metadata": {
  "kernelspec": {
   "display_name": "Python 3",
   "language": "python",
   "name": "python3"
  },
  "language_info": {
   "codemirror_mode": {
    "name": "ipython",
    "version": 3
   },
   "file_extension": ".py",
   "mimetype": "text/x-python",
   "name": "python",
   "nbconvert_exporter": "python",
   "pygments_lexer": "ipython3",
   "version": "3.6.1"
  }
 },
 "nbformat": 4,
 "nbformat_minor": 2
}
